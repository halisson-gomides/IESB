{
  "nbformat": 4,
  "nbformat_minor": 0,
  "metadata": {
    "colab": {
      "name": "hg_trabalho_final_IA_fundamentos.ipynb",
      "provenance": [],
      "collapsed_sections": [
        "fQLCE9XM8Zpo"
      ],
      "include_colab_link": true
    },
    "kernelspec": {
      "name": "python3",
      "display_name": "Python 3"
    },
    "language_info": {
      "name": "python"
    }
  },
  "cells": [
    {
      "cell_type": "markdown",
      "metadata": {
        "id": "view-in-github",
        "colab_type": "text"
      },
      "source": [
        "<a href=\"https://colab.research.google.com/github/halisson-gomides/IESB/blob/main/fundamentos_ia/trabalho_final/hg_trabalho_final_IA_fundamentos.ipynb\" target=\"_parent\"><img src=\"https://colab.research.google.com/assets/colab-badge.svg\" alt=\"Open In Colab\"/></a>"
      ]
    },
    {
      "cell_type": "markdown",
      "source": [
        "\n",
        "### ESPECIALIZAÇÃO EM INTELIGÊNCIA ARTIFICIAL\n",
        "#### FUNDAMENTOS DE INTELIGÊNCIA ARTIFICIAL - 2022/01\n",
        "\n",
        "Professora: Tatiana S. Tavares\n",
        "\n",
        "Aluno: Halisson Souza Gomides\n",
        "\n",
        "\n",
        "\n",
        "---\n",
        "\n"
      ],
      "metadata": {
        "id": "lHLKPcA7lEc3"
      }
    },
    {
      "cell_type": "markdown",
      "source": [
        "**Contexto**\n",
        "\n",
        "Os depósitos a prazo são uma importante fonte de renda para um banco. Um depósito a prazo é um investimento em dinheiro mantido em uma instituição financeira. Seu dinheiro é investido por uma taxa de juros acordada por um período fixo de tempo ou prazo. O banco tem vários planos de divulgação para vender depósitos a prazo para seus clientes, como email marketing, anúncios, marketing telefônico e marketing digital.\n",
        "\n",
        "As campanhas de marketing por telefone ainda continuam sendo uma das maneiras mais eficazes de alcançar as pessoas. No entanto, eles exigem um grande investimento, pois grandes call centers são contratados para realmente executar essas campanhas. Portanto, é crucial identificar os clientes com maior probabilidade de conversão com antecedência, para que eles possam ser direcionados especificamente por meio de chamadas.\n",
        "\n",
        "Os dados dizem respeito a campanhas de marketing direto (telefonemas) de uma instituição bancária portuguesa. O objetivo da classificação é prever se o cliente irá subscrever um depósito a prazo (variável y).\n",
        "<br><br>\n",
        "\n",
        "**Conteúdo**\n",
        "\n",
        ">Os dados estão relacionados com as campanhas de marketing direto de uma instituição bancária portuguesa. As campanhas de marketing foram baseadas em telefonemas. Muitas vezes, era necessário mais de um contato com o mesmo cliente, para acessar se o produto (depósito a prazo bancário) seria ('sim') ou não ('não') subscrito pelo cliente ou não.\n",
        "\n"
      ],
      "metadata": {
        "id": "PwQfZd9NbheO"
      }
    },
    {
      "cell_type": "markdown",
      "source": [
        "## Ambiente"
      ],
      "metadata": {
        "id": "IYlhD1pQlQWv"
      }
    },
    {
      "cell_type": "code",
      "source": [
        "%%capture\n",
        "!pip install -U scikit-optimize"
      ],
      "metadata": {
        "id": "1daTcyxd7sCG"
      },
      "execution_count": 1,
      "outputs": []
    },
    {
      "cell_type": "code",
      "execution_count": 2,
      "metadata": {
        "id": "JAPQGJlrk870"
      },
      "outputs": [],
      "source": [
        "# Manipulação de Dados\n",
        "import pandas as pd\n",
        "\n",
        "# Visualização de dados\n",
        "import seaborn as sns\n",
        "import matplotlib.pyplot as plt\n",
        "\n",
        "# Separação dos dados em treino e teste\n",
        "from sklearn.model_selection import train_test_split\n",
        "\n",
        "# Seleção de Atributos\n",
        "from sklearn.feature_selection import SelectKBest\n",
        "from sklearn.feature_selection import chi2\n",
        "from sklearn.feature_selection import RFE\n",
        "from sklearn.linear_model import LogisticRegression\n",
        "from sklearn.preprocessing import MinMaxScaler\n",
        "\n",
        "# Modelos de Classificação\n",
        "from sklearn.neural_network import MLPClassifier\n",
        "from sklearn.ensemble import RandomForestClassifier, GradientBoostingClassifier\n",
        "\n",
        "# Validação cruzada\n",
        "from sklearn.model_selection import cross_val_score, StratifiedKFold\n",
        "\n",
        "# Métricas\n",
        "from sklearn.metrics import accuracy_score, roc_auc_score, make_scorer\n",
        "from sklearn.metrics import RocCurveDisplay\n",
        "\n",
        "# Tuning de hiperparâmetros\n",
        "from skopt import BayesSearchCV\n",
        "from skopt.space import Real, Categorical, Integer\n",
        "from skopt.utils import use_named_args\n",
        "from skopt import gp_minimize\n",
        "\n",
        "# Acessórias\n",
        "import time\n",
        "import joblib"
      ]
    },
    {
      "cell_type": "code",
      "source": [
        "pd.set_option('display.max_rows', None)\n",
        "pd.set_option('display.max_columns', 100)\n",
        "pd.set_option('display.width', None)\n",
        "pd.set_option('display.max_colwidth', None)"
      ],
      "metadata": {
        "id": "Be_xuAhSmde_"
      },
      "execution_count": 3,
      "outputs": []
    },
    {
      "cell_type": "markdown",
      "source": [
        "## Funções úteis"
      ],
      "metadata": {
        "id": "fQLCE9XM8Zpo"
      }
    },
    {
      "cell_type": "code",
      "source": [
        "def missing_values_table(df):\n",
        "        # Total missing values\n",
        "        mis_val = df.isnull().sum()\n",
        "        \n",
        "        # Percentage of missing values\n",
        "        mis_val_percent = 100 * df.isnull().sum() / len(df)\n",
        "        \n",
        "        # Make a table with the results\n",
        "        mis_val_table = pd.concat([mis_val, mis_val_percent], axis=1)\n",
        "        \n",
        "        # Rename the columns\n",
        "        mis_val_table_ren_columns = mis_val_table.rename(\n",
        "        columns = {0 : 'Missing Values', 1 : '% of Total Values'})\n",
        "        \n",
        "        # Sort the table by percentage of missing descending\n",
        "        mis_val_table_ren_columns = mis_val_table_ren_columns[\n",
        "            mis_val_table_ren_columns.iloc[:,1] != 0].sort_values(\n",
        "        '% of Total Values', ascending=False).round(1)\n",
        "        \n",
        "        # Print some summary information\n",
        "        print (\"Seu dataframe possui \" + str(df.shape[1]) + \" colunas.\\n\"      \n",
        "            \"Existem \" + str(mis_val_table_ren_columns.shape[0]) +\n",
        "              \" colunas que possuem valores ausentes.\")\n",
        "        \n",
        "        # Return the dataframe with missing information\n",
        "        return mis_val_table_ren_columns"
      ],
      "metadata": {
        "id": "9jyuy8ws8bJp"
      },
      "execution_count": 5,
      "outputs": []
    },
    {
      "cell_type": "markdown",
      "source": [
        "## Coleta dos dados"
      ],
      "metadata": {
        "id": "KpPL3YX68VjE"
      }
    },
    {
      "cell_type": "code",
      "source": [
        "df_raw = pd.read_csv('/content/bank.csv')\n",
        "df_raw.head()"
      ],
      "metadata": {
        "colab": {
          "base_uri": "https://localhost:8080/",
          "height": 250
        },
        "id": "TpCcMEJMm3LN",
        "outputId": "d079ca60-64ec-40d6-87d2-544fc6c2c08e"
      },
      "execution_count": 6,
      "outputs": [
        {
          "output_type": "execute_result",
          "data": {
            "text/plain": [
              "   age         job  marital  education default  balance housing loan  contact  \\\n",
              "0   59      admin.  married  secondary      no     2343     yes   no  unknown   \n",
              "1   56      admin.  married  secondary      no       45      no   no  unknown   \n",
              "2   41  technician  married  secondary      no     1270     yes   no  unknown   \n",
              "3   55    services  married  secondary      no     2476     yes   no  unknown   \n",
              "4   54      admin.  married   tertiary      no      184      no   no  unknown   \n",
              "\n",
              "   day month  duration  campaign  pdays  previous poutcome deposit  \n",
              "0    5   may      1042         1     -1         0  unknown     yes  \n",
              "1    5   may      1467         1     -1         0  unknown     yes  \n",
              "2    5   may      1389         1     -1         0  unknown     yes  \n",
              "3    5   may       579         1     -1         0  unknown     yes  \n",
              "4    5   may       673         2     -1         0  unknown     yes  "
            ],
            "text/html": [
              "\n",
              "  <div id=\"df-6293fa7f-f8bc-49b5-8ff2-48c97e89881f\">\n",
              "    <div class=\"colab-df-container\">\n",
              "      <div>\n",
              "<style scoped>\n",
              "    .dataframe tbody tr th:only-of-type {\n",
              "        vertical-align: middle;\n",
              "    }\n",
              "\n",
              "    .dataframe tbody tr th {\n",
              "        vertical-align: top;\n",
              "    }\n",
              "\n",
              "    .dataframe thead th {\n",
              "        text-align: right;\n",
              "    }\n",
              "</style>\n",
              "<table border=\"1\" class=\"dataframe\">\n",
              "  <thead>\n",
              "    <tr style=\"text-align: right;\">\n",
              "      <th></th>\n",
              "      <th>age</th>\n",
              "      <th>job</th>\n",
              "      <th>marital</th>\n",
              "      <th>education</th>\n",
              "      <th>default</th>\n",
              "      <th>balance</th>\n",
              "      <th>housing</th>\n",
              "      <th>loan</th>\n",
              "      <th>contact</th>\n",
              "      <th>day</th>\n",
              "      <th>month</th>\n",
              "      <th>duration</th>\n",
              "      <th>campaign</th>\n",
              "      <th>pdays</th>\n",
              "      <th>previous</th>\n",
              "      <th>poutcome</th>\n",
              "      <th>deposit</th>\n",
              "    </tr>\n",
              "  </thead>\n",
              "  <tbody>\n",
              "    <tr>\n",
              "      <th>0</th>\n",
              "      <td>59</td>\n",
              "      <td>admin.</td>\n",
              "      <td>married</td>\n",
              "      <td>secondary</td>\n",
              "      <td>no</td>\n",
              "      <td>2343</td>\n",
              "      <td>yes</td>\n",
              "      <td>no</td>\n",
              "      <td>unknown</td>\n",
              "      <td>5</td>\n",
              "      <td>may</td>\n",
              "      <td>1042</td>\n",
              "      <td>1</td>\n",
              "      <td>-1</td>\n",
              "      <td>0</td>\n",
              "      <td>unknown</td>\n",
              "      <td>yes</td>\n",
              "    </tr>\n",
              "    <tr>\n",
              "      <th>1</th>\n",
              "      <td>56</td>\n",
              "      <td>admin.</td>\n",
              "      <td>married</td>\n",
              "      <td>secondary</td>\n",
              "      <td>no</td>\n",
              "      <td>45</td>\n",
              "      <td>no</td>\n",
              "      <td>no</td>\n",
              "      <td>unknown</td>\n",
              "      <td>5</td>\n",
              "      <td>may</td>\n",
              "      <td>1467</td>\n",
              "      <td>1</td>\n",
              "      <td>-1</td>\n",
              "      <td>0</td>\n",
              "      <td>unknown</td>\n",
              "      <td>yes</td>\n",
              "    </tr>\n",
              "    <tr>\n",
              "      <th>2</th>\n",
              "      <td>41</td>\n",
              "      <td>technician</td>\n",
              "      <td>married</td>\n",
              "      <td>secondary</td>\n",
              "      <td>no</td>\n",
              "      <td>1270</td>\n",
              "      <td>yes</td>\n",
              "      <td>no</td>\n",
              "      <td>unknown</td>\n",
              "      <td>5</td>\n",
              "      <td>may</td>\n",
              "      <td>1389</td>\n",
              "      <td>1</td>\n",
              "      <td>-1</td>\n",
              "      <td>0</td>\n",
              "      <td>unknown</td>\n",
              "      <td>yes</td>\n",
              "    </tr>\n",
              "    <tr>\n",
              "      <th>3</th>\n",
              "      <td>55</td>\n",
              "      <td>services</td>\n",
              "      <td>married</td>\n",
              "      <td>secondary</td>\n",
              "      <td>no</td>\n",
              "      <td>2476</td>\n",
              "      <td>yes</td>\n",
              "      <td>no</td>\n",
              "      <td>unknown</td>\n",
              "      <td>5</td>\n",
              "      <td>may</td>\n",
              "      <td>579</td>\n",
              "      <td>1</td>\n",
              "      <td>-1</td>\n",
              "      <td>0</td>\n",
              "      <td>unknown</td>\n",
              "      <td>yes</td>\n",
              "    </tr>\n",
              "    <tr>\n",
              "      <th>4</th>\n",
              "      <td>54</td>\n",
              "      <td>admin.</td>\n",
              "      <td>married</td>\n",
              "      <td>tertiary</td>\n",
              "      <td>no</td>\n",
              "      <td>184</td>\n",
              "      <td>no</td>\n",
              "      <td>no</td>\n",
              "      <td>unknown</td>\n",
              "      <td>5</td>\n",
              "      <td>may</td>\n",
              "      <td>673</td>\n",
              "      <td>2</td>\n",
              "      <td>-1</td>\n",
              "      <td>0</td>\n",
              "      <td>unknown</td>\n",
              "      <td>yes</td>\n",
              "    </tr>\n",
              "  </tbody>\n",
              "</table>\n",
              "</div>\n",
              "      <button class=\"colab-df-convert\" onclick=\"convertToInteractive('df-6293fa7f-f8bc-49b5-8ff2-48c97e89881f')\"\n",
              "              title=\"Convert this dataframe to an interactive table.\"\n",
              "              style=\"display:none;\">\n",
              "        \n",
              "  <svg xmlns=\"http://www.w3.org/2000/svg\" height=\"24px\"viewBox=\"0 0 24 24\"\n",
              "       width=\"24px\">\n",
              "    <path d=\"M0 0h24v24H0V0z\" fill=\"none\"/>\n",
              "    <path d=\"M18.56 5.44l.94 2.06.94-2.06 2.06-.94-2.06-.94-.94-2.06-.94 2.06-2.06.94zm-11 1L8.5 8.5l.94-2.06 2.06-.94-2.06-.94L8.5 2.5l-.94 2.06-2.06.94zm10 10l.94 2.06.94-2.06 2.06-.94-2.06-.94-.94-2.06-.94 2.06-2.06.94z\"/><path d=\"M17.41 7.96l-1.37-1.37c-.4-.4-.92-.59-1.43-.59-.52 0-1.04.2-1.43.59L10.3 9.45l-7.72 7.72c-.78.78-.78 2.05 0 2.83L4 21.41c.39.39.9.59 1.41.59.51 0 1.02-.2 1.41-.59l7.78-7.78 2.81-2.81c.8-.78.8-2.07 0-2.86zM5.41 20L4 18.59l7.72-7.72 1.47 1.35L5.41 20z\"/>\n",
              "  </svg>\n",
              "      </button>\n",
              "      \n",
              "  <style>\n",
              "    .colab-df-container {\n",
              "      display:flex;\n",
              "      flex-wrap:wrap;\n",
              "      gap: 12px;\n",
              "    }\n",
              "\n",
              "    .colab-df-convert {\n",
              "      background-color: #E8F0FE;\n",
              "      border: none;\n",
              "      border-radius: 50%;\n",
              "      cursor: pointer;\n",
              "      display: none;\n",
              "      fill: #1967D2;\n",
              "      height: 32px;\n",
              "      padding: 0 0 0 0;\n",
              "      width: 32px;\n",
              "    }\n",
              "\n",
              "    .colab-df-convert:hover {\n",
              "      background-color: #E2EBFA;\n",
              "      box-shadow: 0px 1px 2px rgba(60, 64, 67, 0.3), 0px 1px 3px 1px rgba(60, 64, 67, 0.15);\n",
              "      fill: #174EA6;\n",
              "    }\n",
              "\n",
              "    [theme=dark] .colab-df-convert {\n",
              "      background-color: #3B4455;\n",
              "      fill: #D2E3FC;\n",
              "    }\n",
              "\n",
              "    [theme=dark] .colab-df-convert:hover {\n",
              "      background-color: #434B5C;\n",
              "      box-shadow: 0px 1px 3px 1px rgba(0, 0, 0, 0.15);\n",
              "      filter: drop-shadow(0px 1px 2px rgba(0, 0, 0, 0.3));\n",
              "      fill: #FFFFFF;\n",
              "    }\n",
              "  </style>\n",
              "\n",
              "      <script>\n",
              "        const buttonEl =\n",
              "          document.querySelector('#df-6293fa7f-f8bc-49b5-8ff2-48c97e89881f button.colab-df-convert');\n",
              "        buttonEl.style.display =\n",
              "          google.colab.kernel.accessAllowed ? 'block' : 'none';\n",
              "\n",
              "        async function convertToInteractive(key) {\n",
              "          const element = document.querySelector('#df-6293fa7f-f8bc-49b5-8ff2-48c97e89881f');\n",
              "          const dataTable =\n",
              "            await google.colab.kernel.invokeFunction('convertToInteractive',\n",
              "                                                     [key], {});\n",
              "          if (!dataTable) return;\n",
              "\n",
              "          const docLinkHtml = 'Like what you see? Visit the ' +\n",
              "            '<a target=\"_blank\" href=https://colab.research.google.com/notebooks/data_table.ipynb>data table notebook</a>'\n",
              "            + ' to learn more about interactive tables.';\n",
              "          element.innerHTML = '';\n",
              "          dataTable['output_type'] = 'display_data';\n",
              "          await google.colab.output.renderOutput(dataTable, element);\n",
              "          const docLink = document.createElement('div');\n",
              "          docLink.innerHTML = docLinkHtml;\n",
              "          element.appendChild(docLink);\n",
              "        }\n",
              "      </script>\n",
              "    </div>\n",
              "  </div>\n",
              "  "
            ]
          },
          "metadata": {},
          "execution_count": 6
        }
      ]
    },
    {
      "cell_type": "markdown",
      "source": [
        "## Análise inicial dos dados"
      ],
      "metadata": {
        "id": "Lf4EX-iVFPVA"
      }
    },
    {
      "cell_type": "code",
      "source": [
        "df_raw.info()"
      ],
      "metadata": {
        "colab": {
          "base_uri": "https://localhost:8080/"
        },
        "id": "2ygXzr-DErmm",
        "outputId": "77df6b95-eef4-4333-c1bd-99edb26b2fea"
      },
      "execution_count": 7,
      "outputs": [
        {
          "output_type": "stream",
          "name": "stdout",
          "text": [
            "<class 'pandas.core.frame.DataFrame'>\n",
            "RangeIndex: 11162 entries, 0 to 11161\n",
            "Data columns (total 17 columns):\n",
            " #   Column     Non-Null Count  Dtype \n",
            "---  ------     --------------  ----- \n",
            " 0   age        11162 non-null  int64 \n",
            " 1   job        11162 non-null  object\n",
            " 2   marital    11162 non-null  object\n",
            " 3   education  11162 non-null  object\n",
            " 4   default    11162 non-null  object\n",
            " 5   balance    11162 non-null  int64 \n",
            " 6   housing    11162 non-null  object\n",
            " 7   loan       11162 non-null  object\n",
            " 8   contact    11162 non-null  object\n",
            " 9   day        11162 non-null  int64 \n",
            " 10  month      11162 non-null  object\n",
            " 11  duration   11162 non-null  int64 \n",
            " 12  campaign   11162 non-null  int64 \n",
            " 13  pdays      11162 non-null  int64 \n",
            " 14  previous   11162 non-null  int64 \n",
            " 15  poutcome   11162 non-null  object\n",
            " 16  deposit    11162 non-null  object\n",
            "dtypes: int64(7), object(10)\n",
            "memory usage: 1.4+ MB\n"
          ]
        }
      ]
    },
    {
      "cell_type": "markdown",
      "source": [
        "#### Verificando a cardinalidade das variáveis categóricas"
      ],
      "metadata": {
        "id": "yQ0SO0HL8FGc"
      }
    },
    {
      "cell_type": "code",
      "source": [
        "for col in df_raw.select_dtypes(include='O').columns:\n",
        "  print(col)\n",
        "  display(df_raw[col].value_counts(dropna=False))\n",
        "  print(format('','*^82'))"
      ],
      "metadata": {
        "colab": {
          "base_uri": "https://localhost:8080/",
          "height": 1000
        },
        "id": "kYBrktgJ7EEN",
        "outputId": "597ae27a-b88f-40ff-ace4-52c34fa2837c"
      },
      "execution_count": 8,
      "outputs": [
        {
          "output_type": "stream",
          "name": "stdout",
          "text": [
            "job\n"
          ]
        },
        {
          "output_type": "display_data",
          "data": {
            "text/plain": [
              "management       2566\n",
              "blue-collar      1944\n",
              "technician       1823\n",
              "admin.           1334\n",
              "services          923\n",
              "retired           778\n",
              "self-employed     405\n",
              "student           360\n",
              "unemployed        357\n",
              "entrepreneur      328\n",
              "housemaid         274\n",
              "unknown            70\n",
              "Name: job, dtype: int64"
            ]
          },
          "metadata": {}
        },
        {
          "output_type": "stream",
          "name": "stdout",
          "text": [
            "**********************************************************************************\n",
            "marital\n"
          ]
        },
        {
          "output_type": "display_data",
          "data": {
            "text/plain": [
              "married     6351\n",
              "single      3518\n",
              "divorced    1293\n",
              "Name: marital, dtype: int64"
            ]
          },
          "metadata": {}
        },
        {
          "output_type": "stream",
          "name": "stdout",
          "text": [
            "**********************************************************************************\n",
            "education\n"
          ]
        },
        {
          "output_type": "display_data",
          "data": {
            "text/plain": [
              "secondary    5476\n",
              "tertiary     3689\n",
              "primary      1500\n",
              "unknown       497\n",
              "Name: education, dtype: int64"
            ]
          },
          "metadata": {}
        },
        {
          "output_type": "stream",
          "name": "stdout",
          "text": [
            "**********************************************************************************\n",
            "default\n"
          ]
        },
        {
          "output_type": "display_data",
          "data": {
            "text/plain": [
              "no     10994\n",
              "yes      168\n",
              "Name: default, dtype: int64"
            ]
          },
          "metadata": {}
        },
        {
          "output_type": "stream",
          "name": "stdout",
          "text": [
            "**********************************************************************************\n",
            "housing\n"
          ]
        },
        {
          "output_type": "display_data",
          "data": {
            "text/plain": [
              "no     5881\n",
              "yes    5281\n",
              "Name: housing, dtype: int64"
            ]
          },
          "metadata": {}
        },
        {
          "output_type": "stream",
          "name": "stdout",
          "text": [
            "**********************************************************************************\n",
            "loan\n"
          ]
        },
        {
          "output_type": "display_data",
          "data": {
            "text/plain": [
              "no     9702\n",
              "yes    1460\n",
              "Name: loan, dtype: int64"
            ]
          },
          "metadata": {}
        },
        {
          "output_type": "stream",
          "name": "stdout",
          "text": [
            "**********************************************************************************\n",
            "contact\n"
          ]
        },
        {
          "output_type": "display_data",
          "data": {
            "text/plain": [
              "cellular     8042\n",
              "unknown      2346\n",
              "telephone     774\n",
              "Name: contact, dtype: int64"
            ]
          },
          "metadata": {}
        },
        {
          "output_type": "stream",
          "name": "stdout",
          "text": [
            "**********************************************************************************\n",
            "month\n"
          ]
        },
        {
          "output_type": "display_data",
          "data": {
            "text/plain": [
              "may    2824\n",
              "aug    1519\n",
              "jul    1514\n",
              "jun    1222\n",
              "nov     943\n",
              "apr     923\n",
              "feb     776\n",
              "oct     392\n",
              "jan     344\n",
              "sep     319\n",
              "mar     276\n",
              "dec     110\n",
              "Name: month, dtype: int64"
            ]
          },
          "metadata": {}
        },
        {
          "output_type": "stream",
          "name": "stdout",
          "text": [
            "**********************************************************************************\n",
            "poutcome\n"
          ]
        },
        {
          "output_type": "display_data",
          "data": {
            "text/plain": [
              "unknown    8326\n",
              "failure    1228\n",
              "success    1071\n",
              "other       537\n",
              "Name: poutcome, dtype: int64"
            ]
          },
          "metadata": {}
        },
        {
          "output_type": "stream",
          "name": "stdout",
          "text": [
            "**********************************************************************************\n",
            "deposit\n"
          ]
        },
        {
          "output_type": "display_data",
          "data": {
            "text/plain": [
              "no     5873\n",
              "yes    5289\n",
              "Name: deposit, dtype: int64"
            ]
          },
          "metadata": {}
        },
        {
          "output_type": "stream",
          "name": "stdout",
          "text": [
            "**********************************************************************************\n"
          ]
        }
      ]
    },
    {
      "cell_type": "markdown",
      "source": [
        "#### Descrição das variáveis do dataset"
      ],
      "metadata": {
        "id": "yDSCgf3eFXXk"
      }
    },
    {
      "cell_type": "markdown",
      "source": [
        "1. age (numérico)\n",
        "2. job : tipo de ocupação (categórico: \"admin.\",\"unknown\",\"unemployed\",\"management\",\"housemaid\",\"entrepreneur\",\"student\",\n",
        "\"blue-collar\",\"self-employed\",\"retired\",\"technician\",\"services\")\n",
        "3. marital : estado civil (categórico: \"married\",\"divorced\",\"single\"; note: \"divorced\" means divorced or widowed)\n",
        "4. education (categórico: \"unknown\",\"secondary\",\"primary\",\"tertiary\")\n",
        "5. default: tem empréstimo em atraso? (binário: \"yes\",\"no\")\n",
        "6. balance: saldo anual médio, em euros (numérico)\n",
        "7. housing: tem financiamento imobiliário? (binário: \"yes\",\"no\")\n",
        "8. loan: tem empréstimo pessoal? (binary: \"yes\",\"no\")\n",
        "#### relacionado com o último contato da campanha atual:\n",
        "9. contact: tipo de contato realizado (categórico: \"unknown\",\"telephone\",\"cellular\")\n",
        "10. day: último dia de contato do mês (numérico)\n",
        "11. month: último mês de contato do ano (categórico: \"jan\", \"feb\", \"mar\", …, \"nov\", \"dec\")\n",
        "12. duration: duração do útimo contato, em segundos (numerico)\n",
        "#### outros atributos:\n",
        "13. campaign: número de contatos realizados durante esta campanha e para este cliente (numerico, incluindo o último contato)\n",
        "14. pdays: número de dias que se passaram depois que o cliente foi contatado pela última vez em uma campanha anterior (numerico, -1 significa que o cliente não foi previamente contatado)\n",
        "15. previous: número de contatos realizados antes desta campanha e para este cliente (numerico)\n",
        "16. poutcome: resultado da campanha de marketing anterior (categorico: \"unknown\",\"other\",\"failure\",\"success\")"
      ],
      "metadata": {
        "id": "QHZjmL2fZO6t"
      }
    },
    {
      "cell_type": "markdown",
      "source": [
        "#### verificando valores ausentes"
      ],
      "metadata": {
        "id": "gOMCAQT48LKW"
      }
    },
    {
      "cell_type": "code",
      "source": [
        "missing_values_table(df_raw)"
      ],
      "metadata": {
        "colab": {
          "base_uri": "https://localhost:8080/",
          "height": 86
        },
        "id": "M8JjX7s67boO",
        "outputId": "e9d90b9c-6573-44b8-b2f1-c6f3a22854e8"
      },
      "execution_count": 9,
      "outputs": [
        {
          "output_type": "stream",
          "name": "stdout",
          "text": [
            "Seu dataframe possui 17 colunas.\n",
            "Existem 0 colunas que possuem valores ausentes.\n"
          ]
        },
        {
          "output_type": "execute_result",
          "data": {
            "text/plain": [
              "Empty DataFrame\n",
              "Columns: [Missing Values, % of Total Values]\n",
              "Index: []"
            ],
            "text/html": [
              "\n",
              "  <div id=\"df-ab438af4-8325-466e-b82d-579e16acd837\">\n",
              "    <div class=\"colab-df-container\">\n",
              "      <div>\n",
              "<style scoped>\n",
              "    .dataframe tbody tr th:only-of-type {\n",
              "        vertical-align: middle;\n",
              "    }\n",
              "\n",
              "    .dataframe tbody tr th {\n",
              "        vertical-align: top;\n",
              "    }\n",
              "\n",
              "    .dataframe thead th {\n",
              "        text-align: right;\n",
              "    }\n",
              "</style>\n",
              "<table border=\"1\" class=\"dataframe\">\n",
              "  <thead>\n",
              "    <tr style=\"text-align: right;\">\n",
              "      <th></th>\n",
              "      <th>Missing Values</th>\n",
              "      <th>% of Total Values</th>\n",
              "    </tr>\n",
              "  </thead>\n",
              "  <tbody>\n",
              "  </tbody>\n",
              "</table>\n",
              "</div>\n",
              "      <button class=\"colab-df-convert\" onclick=\"convertToInteractive('df-ab438af4-8325-466e-b82d-579e16acd837')\"\n",
              "              title=\"Convert this dataframe to an interactive table.\"\n",
              "              style=\"display:none;\">\n",
              "        \n",
              "  <svg xmlns=\"http://www.w3.org/2000/svg\" height=\"24px\"viewBox=\"0 0 24 24\"\n",
              "       width=\"24px\">\n",
              "    <path d=\"M0 0h24v24H0V0z\" fill=\"none\"/>\n",
              "    <path d=\"M18.56 5.44l.94 2.06.94-2.06 2.06-.94-2.06-.94-.94-2.06-.94 2.06-2.06.94zm-11 1L8.5 8.5l.94-2.06 2.06-.94-2.06-.94L8.5 2.5l-.94 2.06-2.06.94zm10 10l.94 2.06.94-2.06 2.06-.94-2.06-.94-.94-2.06-.94 2.06-2.06.94z\"/><path d=\"M17.41 7.96l-1.37-1.37c-.4-.4-.92-.59-1.43-.59-.52 0-1.04.2-1.43.59L10.3 9.45l-7.72 7.72c-.78.78-.78 2.05 0 2.83L4 21.41c.39.39.9.59 1.41.59.51 0 1.02-.2 1.41-.59l7.78-7.78 2.81-2.81c.8-.78.8-2.07 0-2.86zM5.41 20L4 18.59l7.72-7.72 1.47 1.35L5.41 20z\"/>\n",
              "  </svg>\n",
              "      </button>\n",
              "      \n",
              "  <style>\n",
              "    .colab-df-container {\n",
              "      display:flex;\n",
              "      flex-wrap:wrap;\n",
              "      gap: 12px;\n",
              "    }\n",
              "\n",
              "    .colab-df-convert {\n",
              "      background-color: #E8F0FE;\n",
              "      border: none;\n",
              "      border-radius: 50%;\n",
              "      cursor: pointer;\n",
              "      display: none;\n",
              "      fill: #1967D2;\n",
              "      height: 32px;\n",
              "      padding: 0 0 0 0;\n",
              "      width: 32px;\n",
              "    }\n",
              "\n",
              "    .colab-df-convert:hover {\n",
              "      background-color: #E2EBFA;\n",
              "      box-shadow: 0px 1px 2px rgba(60, 64, 67, 0.3), 0px 1px 3px 1px rgba(60, 64, 67, 0.15);\n",
              "      fill: #174EA6;\n",
              "    }\n",
              "\n",
              "    [theme=dark] .colab-df-convert {\n",
              "      background-color: #3B4455;\n",
              "      fill: #D2E3FC;\n",
              "    }\n",
              "\n",
              "    [theme=dark] .colab-df-convert:hover {\n",
              "      background-color: #434B5C;\n",
              "      box-shadow: 0px 1px 3px 1px rgba(0, 0, 0, 0.15);\n",
              "      filter: drop-shadow(0px 1px 2px rgba(0, 0, 0, 0.3));\n",
              "      fill: #FFFFFF;\n",
              "    }\n",
              "  </style>\n",
              "\n",
              "      <script>\n",
              "        const buttonEl =\n",
              "          document.querySelector('#df-ab438af4-8325-466e-b82d-579e16acd837 button.colab-df-convert');\n",
              "        buttonEl.style.display =\n",
              "          google.colab.kernel.accessAllowed ? 'block' : 'none';\n",
              "\n",
              "        async function convertToInteractive(key) {\n",
              "          const element = document.querySelector('#df-ab438af4-8325-466e-b82d-579e16acd837');\n",
              "          const dataTable =\n",
              "            await google.colab.kernel.invokeFunction('convertToInteractive',\n",
              "                                                     [key], {});\n",
              "          if (!dataTable) return;\n",
              "\n",
              "          const docLinkHtml = 'Like what you see? Visit the ' +\n",
              "            '<a target=\"_blank\" href=https://colab.research.google.com/notebooks/data_table.ipynb>data table notebook</a>'\n",
              "            + ' to learn more about interactive tables.';\n",
              "          element.innerHTML = '';\n",
              "          dataTable['output_type'] = 'display_data';\n",
              "          await google.colab.output.renderOutput(dataTable, element);\n",
              "          const docLink = document.createElement('div');\n",
              "          docLink.innerHTML = docLinkHtml;\n",
              "          element.appendChild(docLink);\n",
              "        }\n",
              "      </script>\n",
              "    </div>\n",
              "  </div>\n",
              "  "
            ]
          },
          "metadata": {},
          "execution_count": 9
        }
      ]
    },
    {
      "cell_type": "markdown",
      "source": [
        "### verificando registros duplicados"
      ],
      "metadata": {
        "id": "NGUYtHvm8wcX"
      }
    },
    {
      "cell_type": "code",
      "source": [
        "df_raw.duplicated().sum()"
      ],
      "metadata": {
        "colab": {
          "base_uri": "https://localhost:8080/"
        },
        "id": "580_8zBB8zyj",
        "outputId": "85d62ac5-8093-4aba-d0ac-e14a213e626c"
      },
      "execution_count": 10,
      "outputs": [
        {
          "output_type": "execute_result",
          "data": {
            "text/plain": [
              "0"
            ]
          },
          "metadata": {},
          "execution_count": 10
        }
      ]
    },
    {
      "cell_type": "markdown",
      "source": [
        "#### Transformação de variáveis"
      ],
      "metadata": {
        "id": "KO_9lJaA8nMn"
      }
    },
    {
      "cell_type": "code",
      "source": [
        "df = df_raw.copy()"
      ],
      "metadata": {
        "id": "fACZMPzt8jCt"
      },
      "execution_count": 11,
      "outputs": []
    },
    {
      "cell_type": "markdown",
      "source": [
        "Criei uma nova feature `difficulty` que pretende expressar a dificuldade do banco em fazer o cliente aderir à campanha."
      ],
      "metadata": {
        "id": "kuvg8Vu8NNti"
      }
    },
    {
      "cell_type": "code",
      "source": [
        "df['difficulty'] = -1 # desconhecido\n",
        "df.loc[(df['poutcome'] == 'success') & (df['previous'].between(0,1)), 'difficulty'] = 0 #fácil\n",
        "df.loc[(df['poutcome'] == 'success') & (df['previous'].between(2,4)), 'difficulty'] = 1 #médio\n",
        "df.loc[(df['poutcome'] == 'success') & (df['previous'].between(5,7)), 'difficulty'] = 2 #difícil\n",
        "df.loc[(df['poutcome'] == 'success') & (df['previous'] > 7), 'difficulty'] = 3 # muito difícil\n",
        "df.loc[df['poutcome'] == 'failure', 'difficulty'] = 4 # impossível"
      ],
      "metadata": {
        "id": "HtRM2T4m86sd"
      },
      "execution_count": 12,
      "outputs": []
    },
    {
      "cell_type": "code",
      "source": [
        "df['difficulty'].value_counts()"
      ],
      "metadata": {
        "colab": {
          "base_uri": "https://localhost:8080/"
        },
        "id": "cWKxtXGx-aHH",
        "outputId": "1169bb00-4d58-485e-a845-f4a230766f5c"
      },
      "execution_count": 13,
      "outputs": [
        {
          "output_type": "execute_result",
          "data": {
            "text/plain": [
              "-1    8863\n",
              " 4    1228\n",
              " 1     525\n",
              " 0     326\n",
              " 2     146\n",
              " 3      74\n",
              "Name: difficulty, dtype: int64"
            ]
          },
          "metadata": {},
          "execution_count": 13
        }
      ]
    },
    {
      "cell_type": "markdown",
      "source": [
        "### Seleção de variáveis"
      ],
      "metadata": {
        "id": "8TEmjRVL-hTL"
      }
    },
    {
      "cell_type": "markdown",
      "source": [
        "Variáveis explicativas"
      ],
      "metadata": {
        "id": "52CZSfdINv9M"
      }
    },
    {
      "cell_type": "code",
      "source": [
        "vars_explicativas = df.drop('deposit', axis=1).columns\n",
        "df[vars_explicativas].head()"
      ],
      "metadata": {
        "colab": {
          "base_uri": "https://localhost:8080/",
          "height": 270
        },
        "id": "zvHV1bY4-di2",
        "outputId": "7253185a-656d-4b25-b63f-3363c090f29a"
      },
      "execution_count": 14,
      "outputs": [
        {
          "output_type": "execute_result",
          "data": {
            "text/plain": [
              "   age         job  marital  education default  balance housing loan  contact  \\\n",
              "0   59      admin.  married  secondary      no     2343     yes   no  unknown   \n",
              "1   56      admin.  married  secondary      no       45      no   no  unknown   \n",
              "2   41  technician  married  secondary      no     1270     yes   no  unknown   \n",
              "3   55    services  married  secondary      no     2476     yes   no  unknown   \n",
              "4   54      admin.  married   tertiary      no      184      no   no  unknown   \n",
              "\n",
              "   day month  duration  campaign  pdays  previous poutcome  difficulty  \n",
              "0    5   may      1042         1     -1         0  unknown          -1  \n",
              "1    5   may      1467         1     -1         0  unknown          -1  \n",
              "2    5   may      1389         1     -1         0  unknown          -1  \n",
              "3    5   may       579         1     -1         0  unknown          -1  \n",
              "4    5   may       673         2     -1         0  unknown          -1  "
            ],
            "text/html": [
              "\n",
              "  <div id=\"df-759dda74-81d4-46ca-99c5-b5114aa15d09\">\n",
              "    <div class=\"colab-df-container\">\n",
              "      <div>\n",
              "<style scoped>\n",
              "    .dataframe tbody tr th:only-of-type {\n",
              "        vertical-align: middle;\n",
              "    }\n",
              "\n",
              "    .dataframe tbody tr th {\n",
              "        vertical-align: top;\n",
              "    }\n",
              "\n",
              "    .dataframe thead th {\n",
              "        text-align: right;\n",
              "    }\n",
              "</style>\n",
              "<table border=\"1\" class=\"dataframe\">\n",
              "  <thead>\n",
              "    <tr style=\"text-align: right;\">\n",
              "      <th></th>\n",
              "      <th>age</th>\n",
              "      <th>job</th>\n",
              "      <th>marital</th>\n",
              "      <th>education</th>\n",
              "      <th>default</th>\n",
              "      <th>balance</th>\n",
              "      <th>housing</th>\n",
              "      <th>loan</th>\n",
              "      <th>contact</th>\n",
              "      <th>day</th>\n",
              "      <th>month</th>\n",
              "      <th>duration</th>\n",
              "      <th>campaign</th>\n",
              "      <th>pdays</th>\n",
              "      <th>previous</th>\n",
              "      <th>poutcome</th>\n",
              "      <th>difficulty</th>\n",
              "    </tr>\n",
              "  </thead>\n",
              "  <tbody>\n",
              "    <tr>\n",
              "      <th>0</th>\n",
              "      <td>59</td>\n",
              "      <td>admin.</td>\n",
              "      <td>married</td>\n",
              "      <td>secondary</td>\n",
              "      <td>no</td>\n",
              "      <td>2343</td>\n",
              "      <td>yes</td>\n",
              "      <td>no</td>\n",
              "      <td>unknown</td>\n",
              "      <td>5</td>\n",
              "      <td>may</td>\n",
              "      <td>1042</td>\n",
              "      <td>1</td>\n",
              "      <td>-1</td>\n",
              "      <td>0</td>\n",
              "      <td>unknown</td>\n",
              "      <td>-1</td>\n",
              "    </tr>\n",
              "    <tr>\n",
              "      <th>1</th>\n",
              "      <td>56</td>\n",
              "      <td>admin.</td>\n",
              "      <td>married</td>\n",
              "      <td>secondary</td>\n",
              "      <td>no</td>\n",
              "      <td>45</td>\n",
              "      <td>no</td>\n",
              "      <td>no</td>\n",
              "      <td>unknown</td>\n",
              "      <td>5</td>\n",
              "      <td>may</td>\n",
              "      <td>1467</td>\n",
              "      <td>1</td>\n",
              "      <td>-1</td>\n",
              "      <td>0</td>\n",
              "      <td>unknown</td>\n",
              "      <td>-1</td>\n",
              "    </tr>\n",
              "    <tr>\n",
              "      <th>2</th>\n",
              "      <td>41</td>\n",
              "      <td>technician</td>\n",
              "      <td>married</td>\n",
              "      <td>secondary</td>\n",
              "      <td>no</td>\n",
              "      <td>1270</td>\n",
              "      <td>yes</td>\n",
              "      <td>no</td>\n",
              "      <td>unknown</td>\n",
              "      <td>5</td>\n",
              "      <td>may</td>\n",
              "      <td>1389</td>\n",
              "      <td>1</td>\n",
              "      <td>-1</td>\n",
              "      <td>0</td>\n",
              "      <td>unknown</td>\n",
              "      <td>-1</td>\n",
              "    </tr>\n",
              "    <tr>\n",
              "      <th>3</th>\n",
              "      <td>55</td>\n",
              "      <td>services</td>\n",
              "      <td>married</td>\n",
              "      <td>secondary</td>\n",
              "      <td>no</td>\n",
              "      <td>2476</td>\n",
              "      <td>yes</td>\n",
              "      <td>no</td>\n",
              "      <td>unknown</td>\n",
              "      <td>5</td>\n",
              "      <td>may</td>\n",
              "      <td>579</td>\n",
              "      <td>1</td>\n",
              "      <td>-1</td>\n",
              "      <td>0</td>\n",
              "      <td>unknown</td>\n",
              "      <td>-1</td>\n",
              "    </tr>\n",
              "    <tr>\n",
              "      <th>4</th>\n",
              "      <td>54</td>\n",
              "      <td>admin.</td>\n",
              "      <td>married</td>\n",
              "      <td>tertiary</td>\n",
              "      <td>no</td>\n",
              "      <td>184</td>\n",
              "      <td>no</td>\n",
              "      <td>no</td>\n",
              "      <td>unknown</td>\n",
              "      <td>5</td>\n",
              "      <td>may</td>\n",
              "      <td>673</td>\n",
              "      <td>2</td>\n",
              "      <td>-1</td>\n",
              "      <td>0</td>\n",
              "      <td>unknown</td>\n",
              "      <td>-1</td>\n",
              "    </tr>\n",
              "  </tbody>\n",
              "</table>\n",
              "</div>\n",
              "      <button class=\"colab-df-convert\" onclick=\"convertToInteractive('df-759dda74-81d4-46ca-99c5-b5114aa15d09')\"\n",
              "              title=\"Convert this dataframe to an interactive table.\"\n",
              "              style=\"display:none;\">\n",
              "        \n",
              "  <svg xmlns=\"http://www.w3.org/2000/svg\" height=\"24px\"viewBox=\"0 0 24 24\"\n",
              "       width=\"24px\">\n",
              "    <path d=\"M0 0h24v24H0V0z\" fill=\"none\"/>\n",
              "    <path d=\"M18.56 5.44l.94 2.06.94-2.06 2.06-.94-2.06-.94-.94-2.06-.94 2.06-2.06.94zm-11 1L8.5 8.5l.94-2.06 2.06-.94-2.06-.94L8.5 2.5l-.94 2.06-2.06.94zm10 10l.94 2.06.94-2.06 2.06-.94-2.06-.94-.94-2.06-.94 2.06-2.06.94z\"/><path d=\"M17.41 7.96l-1.37-1.37c-.4-.4-.92-.59-1.43-.59-.52 0-1.04.2-1.43.59L10.3 9.45l-7.72 7.72c-.78.78-.78 2.05 0 2.83L4 21.41c.39.39.9.59 1.41.59.51 0 1.02-.2 1.41-.59l7.78-7.78 2.81-2.81c.8-.78.8-2.07 0-2.86zM5.41 20L4 18.59l7.72-7.72 1.47 1.35L5.41 20z\"/>\n",
              "  </svg>\n",
              "      </button>\n",
              "      \n",
              "  <style>\n",
              "    .colab-df-container {\n",
              "      display:flex;\n",
              "      flex-wrap:wrap;\n",
              "      gap: 12px;\n",
              "    }\n",
              "\n",
              "    .colab-df-convert {\n",
              "      background-color: #E8F0FE;\n",
              "      border: none;\n",
              "      border-radius: 50%;\n",
              "      cursor: pointer;\n",
              "      display: none;\n",
              "      fill: #1967D2;\n",
              "      height: 32px;\n",
              "      padding: 0 0 0 0;\n",
              "      width: 32px;\n",
              "    }\n",
              "\n",
              "    .colab-df-convert:hover {\n",
              "      background-color: #E2EBFA;\n",
              "      box-shadow: 0px 1px 2px rgba(60, 64, 67, 0.3), 0px 1px 3px 1px rgba(60, 64, 67, 0.15);\n",
              "      fill: #174EA6;\n",
              "    }\n",
              "\n",
              "    [theme=dark] .colab-df-convert {\n",
              "      background-color: #3B4455;\n",
              "      fill: #D2E3FC;\n",
              "    }\n",
              "\n",
              "    [theme=dark] .colab-df-convert:hover {\n",
              "      background-color: #434B5C;\n",
              "      box-shadow: 0px 1px 3px 1px rgba(0, 0, 0, 0.15);\n",
              "      filter: drop-shadow(0px 1px 2px rgba(0, 0, 0, 0.3));\n",
              "      fill: #FFFFFF;\n",
              "    }\n",
              "  </style>\n",
              "\n",
              "      <script>\n",
              "        const buttonEl =\n",
              "          document.querySelector('#df-759dda74-81d4-46ca-99c5-b5114aa15d09 button.colab-df-convert');\n",
              "        buttonEl.style.display =\n",
              "          google.colab.kernel.accessAllowed ? 'block' : 'none';\n",
              "\n",
              "        async function convertToInteractive(key) {\n",
              "          const element = document.querySelector('#df-759dda74-81d4-46ca-99c5-b5114aa15d09');\n",
              "          const dataTable =\n",
              "            await google.colab.kernel.invokeFunction('convertToInteractive',\n",
              "                                                     [key], {});\n",
              "          if (!dataTable) return;\n",
              "\n",
              "          const docLinkHtml = 'Like what you see? Visit the ' +\n",
              "            '<a target=\"_blank\" href=https://colab.research.google.com/notebooks/data_table.ipynb>data table notebook</a>'\n",
              "            + ' to learn more about interactive tables.';\n",
              "          element.innerHTML = '';\n",
              "          dataTable['output_type'] = 'display_data';\n",
              "          await google.colab.output.renderOutput(dataTable, element);\n",
              "          const docLink = document.createElement('div');\n",
              "          docLink.innerHTML = docLinkHtml;\n",
              "          element.appendChild(docLink);\n",
              "        }\n",
              "      </script>\n",
              "    </div>\n",
              "  </div>\n",
              "  "
            ]
          },
          "metadata": {},
          "execution_count": 14
        }
      ]
    },
    {
      "cell_type": "code",
      "source": [
        "df[vars_explicativas].info()"
      ],
      "metadata": {
        "colab": {
          "base_uri": "https://localhost:8080/"
        },
        "id": "xJxwH7UE_QzS",
        "outputId": "c5244e4f-62c5-4c57-a03f-94c509027412"
      },
      "execution_count": 15,
      "outputs": [
        {
          "output_type": "stream",
          "name": "stdout",
          "text": [
            "<class 'pandas.core.frame.DataFrame'>\n",
            "RangeIndex: 11162 entries, 0 to 11161\n",
            "Data columns (total 17 columns):\n",
            " #   Column      Non-Null Count  Dtype \n",
            "---  ------      --------------  ----- \n",
            " 0   age         11162 non-null  int64 \n",
            " 1   job         11162 non-null  object\n",
            " 2   marital     11162 non-null  object\n",
            " 3   education   11162 non-null  object\n",
            " 4   default     11162 non-null  object\n",
            " 5   balance     11162 non-null  int64 \n",
            " 6   housing     11162 non-null  object\n",
            " 7   loan        11162 non-null  object\n",
            " 8   contact     11162 non-null  object\n",
            " 9   day         11162 non-null  int64 \n",
            " 10  month       11162 non-null  object\n",
            " 11  duration    11162 non-null  int64 \n",
            " 12  campaign    11162 non-null  int64 \n",
            " 13  pdays       11162 non-null  int64 \n",
            " 14  previous    11162 non-null  int64 \n",
            " 15  poutcome    11162 non-null  object\n",
            " 16  difficulty  11162 non-null  int64 \n",
            "dtypes: int64(8), object(9)\n",
            "memory usage: 1.4+ MB\n"
          ]
        }
      ]
    },
    {
      "cell_type": "markdown",
      "source": [
        "Variável Resposta"
      ],
      "metadata": {
        "id": "TxGW2uqvN1RW"
      }
    },
    {
      "cell_type": "code",
      "source": [
        "# Variável Resposta\n",
        "var_resp = 'deposit'\n",
        "df[[var_resp]].value_counts()"
      ],
      "metadata": {
        "colab": {
          "base_uri": "https://localhost:8080/"
        },
        "id": "OVD6bOTQ_Dfi",
        "outputId": "74b5105a-599e-401f-af2b-e4079ace4e97"
      },
      "execution_count": 16,
      "outputs": [
        {
          "output_type": "execute_result",
          "data": {
            "text/plain": [
              "deposit\n",
              "no         5873\n",
              "yes        5289\n",
              "dtype: int64"
            ]
          },
          "metadata": {},
          "execution_count": 16
        }
      ]
    },
    {
      "cell_type": "code",
      "source": [
        "# Encoding da variável resposta\n",
        "df[var_resp] = df[var_resp].apply(lambda x: 0 if x == 'no' else 1)\n",
        "df[[var_resp]].value_counts()"
      ],
      "metadata": {
        "colab": {
          "base_uri": "https://localhost:8080/"
        },
        "id": "_NS4pEWsALe_",
        "outputId": "a5e6271e-5afb-4d1b-d5ba-198fc142bc9b"
      },
      "execution_count": 17,
      "outputs": [
        {
          "output_type": "execute_result",
          "data": {
            "text/plain": [
              "deposit\n",
              "0          5873\n",
              "1          5289\n",
              "dtype: int64"
            ]
          },
          "metadata": {},
          "execution_count": 17
        }
      ]
    },
    {
      "cell_type": "code",
      "source": [
        "# explicativas numéricas\n",
        "vars_expl_num = df[vars_explicativas].select_dtypes(exclude='O').columns.difference(['difficulty'])\n",
        "vars_expl_num"
      ],
      "metadata": {
        "colab": {
          "base_uri": "https://localhost:8080/"
        },
        "id": "ZHbNC4Me_Nwq",
        "outputId": "68e2123b-910d-49e8-af8a-1c0ccf001e2e"
      },
      "execution_count": 18,
      "outputs": [
        {
          "output_type": "execute_result",
          "data": {
            "text/plain": [
              "Index(['age', 'balance', 'campaign', 'day', 'duration', 'pdays', 'previous'], dtype='object')"
            ]
          },
          "metadata": {},
          "execution_count": 18
        }
      ]
    },
    {
      "cell_type": "code",
      "source": [
        "# explicativas categóricas\n",
        "vars_expl_cat = df[vars_explicativas].columns.difference(vars_expl_num)\n",
        "vars_expl_cat"
      ],
      "metadata": {
        "colab": {
          "base_uri": "https://localhost:8080/"
        },
        "id": "jkWX-_wX_3-I",
        "outputId": "a62f2f0f-2ae5-4917-a7cd-bb415c003938"
      },
      "execution_count": 19,
      "outputs": [
        {
          "output_type": "execute_result",
          "data": {
            "text/plain": [
              "Index(['contact', 'default', 'difficulty', 'education', 'housing', 'job',\n",
              "       'loan', 'marital', 'month', 'poutcome'],\n",
              "      dtype='object')"
            ]
          },
          "metadata": {},
          "execution_count": 19
        }
      ]
    },
    {
      "cell_type": "markdown",
      "source": [
        "#### Seleção de features categóricas"
      ],
      "metadata": {
        "id": "cul3ctfGR2Ou"
      }
    },
    {
      "cell_type": "code",
      "source": [
        "# chi2 - aplicação do método chi2 para seleção de features categóricas\n",
        "\n",
        "# 1. Encondig das variáveis categóricas\n",
        "df_expl_cat_enc = pd.get_dummies(df[vars_expl_cat], columns=vars_expl_cat, drop_first=True)\n",
        "\n",
        "# 2. Ajuste de escala\n",
        "expl_cat_norm = MinMaxScaler().fit_transform(df_expl_cat_enc)\n",
        "\n",
        "# 3. Aplicação da técnica\n",
        "chi_selector = SelectKBest(chi2, k=5)\n",
        "chi_selector.fit(expl_cat_norm, df[var_resp])"
      ],
      "metadata": {
        "colab": {
          "base_uri": "https://localhost:8080/"
        },
        "id": "IWRvkGruB4Lu",
        "outputId": "7f972326-21aa-4cb6-e88a-769aad2ae44f"
      },
      "execution_count": 20,
      "outputs": [
        {
          "output_type": "execute_result",
          "data": {
            "text/plain": [
              "SelectKBest(k=5, score_func=<function chi2 at 0x7f85119b2e60>)"
            ]
          },
          "metadata": {},
          "execution_count": 20
        }
      ]
    },
    {
      "cell_type": "markdown",
      "source": [
        "*Nota:* Lembrando que o teste do qui-quadrado mede a dependência entre variáveis estocásticas, portanto, usar essa função _“elimina”_ as features que são mais prováveis de serem independentes da variável target e, portanto, irrelevantes para a classificação."
      ],
      "metadata": {
        "id": "JrZ1wGO04Oi0"
      }
    },
    {
      "cell_type": "code",
      "source": [
        "chi_support = chi_selector.get_support()\n",
        "chi_feature = df_expl_cat_enc.loc[:,chi_support].columns.tolist()\n",
        "chi_feature"
      ],
      "metadata": {
        "colab": {
          "base_uri": "https://localhost:8080/"
        },
        "id": "p_Zm57D1RgMN",
        "outputId": "847b05b0-a927-4afc-95e4-da9900fad1a8"
      },
      "execution_count": 21,
      "outputs": [
        {
          "output_type": "execute_result",
          "data": {
            "text/plain": [
              "['contact_unknown',\n",
              " 'difficulty_0',\n",
              " 'difficulty_1',\n",
              " 'housing_yes',\n",
              " 'poutcome_success']"
            ]
          },
          "metadata": {},
          "execution_count": 21
        }
      ]
    },
    {
      "cell_type": "markdown",
      "source": [
        "*Nota*: no caso, o método do chi2 selecionou algumas categorias de algumas features. Daí, o correto é entendermos que devemos usar as features `contact`, `difficulty`, `housing` e `poutcome` como um todo, ao invés de apenas suas categorias selecionadas."
      ],
      "metadata": {
        "id": "49jMAeKIVOHk"
      }
    },
    {
      "cell_type": "markdown",
      "source": [
        "#### Seleção de features numéricas"
      ],
      "metadata": {
        "id": "665eZUVnR9p4"
      }
    },
    {
      "cell_type": "code",
      "source": [
        "# RFE - aplicação do método recursive feature elimination (rfe) para seleção de features numéricas\n",
        "\n",
        "# 1. Ajuste de escala\n",
        "expl_num_norm = MinMaxScaler().fit_transform(df[vars_expl_num])\n",
        "\n",
        "# 2. Aplicação da técnica\n",
        "rfe_selector = RFE(estimator=LogisticRegression(random_state=42, max_iter=200), n_features_to_select=3, step=1)\n",
        "rfe_selector.fit(expl_num_norm, df[var_resp])"
      ],
      "metadata": {
        "colab": {
          "base_uri": "https://localhost:8080/"
        },
        "id": "nhM_zwAjSEOD",
        "outputId": "68b9516f-b7ef-4a54-db7d-f4f74e6539f4"
      },
      "execution_count": 22,
      "outputs": [
        {
          "output_type": "execute_result",
          "data": {
            "text/plain": [
              "RFE(estimator=LogisticRegression(max_iter=200, random_state=42),\n",
              "    n_features_to_select=3)"
            ]
          },
          "metadata": {},
          "execution_count": 22
        }
      ]
    },
    {
      "cell_type": "markdown",
      "source": [
        "*Nota:* Dado um algoritmo externo que atribui pesos às features (por exemplo, os coeficientes de um modelo linear), o objetivo da eliminação recursiva de recursos (RFE) é selecionar features considerando recursivamente conjuntos cada vez menores de features. Primeiro, o algoritmo é treinado no conjunto inicial de features e a importância de cada feature é obtida. Em seguida, as features menos importantes são removidas do conjunto atual de features. Esse procedimento é repetido recursivamente no conjunto de dados até que o número desejado de features a serem selecionadas seja finalmente alcançado."
      ],
      "metadata": {
        "id": "sWNC-70B6aTH"
      }
    },
    {
      "cell_type": "code",
      "source": [
        "rfe_support = rfe_selector.get_support()\n",
        "rfe_feature = df[vars_expl_num].loc[:,rfe_support].columns.tolist()\n",
        "rfe_feature"
      ],
      "metadata": {
        "colab": {
          "base_uri": "https://localhost:8080/"
        },
        "id": "zDgIDhgaSsJT",
        "outputId": "6a4e079c-a152-49aa-a015-55e98e5a5f33"
      },
      "execution_count": 23,
      "outputs": [
        {
          "output_type": "execute_result",
          "data": {
            "text/plain": [
              "['campaign', 'duration', 'previous']"
            ]
          },
          "metadata": {},
          "execution_count": 23
        }
      ]
    },
    {
      "cell_type": "markdown",
      "source": [
        "\n",
        "\n",
        "### ABT - Analytical Base Table\n",
        " Base a ser considerada no processo de modelagem"
      ],
      "metadata": {
        "id": "_NQxgfpwUbNW"
      }
    },
    {
      "cell_type": "code",
      "source": [
        "categorical_columns_subset = ['contact','difficulty','housing','poutcome']\n",
        "df_features_model = df[rfe_feature + categorical_columns_subset].copy()\n",
        "df_features_model[categorical_columns_subset] = df_features_model[categorical_columns_subset].astype('category')\n",
        "df_features_model.head()"
      ],
      "metadata": {
        "colab": {
          "base_uri": "https://localhost:8080/",
          "height": 206
        },
        "id": "HX2PLccmULzm",
        "outputId": "14ca1ab2-a0e4-4f4b-8b7d-b65ab3a4d027"
      },
      "execution_count": 24,
      "outputs": [
        {
          "output_type": "execute_result",
          "data": {
            "text/plain": [
              "   campaign  duration  previous  contact difficulty housing poutcome\n",
              "0         1      1042         0  unknown         -1     yes  unknown\n",
              "1         1      1467         0  unknown         -1      no  unknown\n",
              "2         1      1389         0  unknown         -1     yes  unknown\n",
              "3         1       579         0  unknown         -1     yes  unknown\n",
              "4         2       673         0  unknown         -1      no  unknown"
            ],
            "text/html": [
              "\n",
              "  <div id=\"df-60e2a2f1-6269-429d-a641-981a9d0e72ef\">\n",
              "    <div class=\"colab-df-container\">\n",
              "      <div>\n",
              "<style scoped>\n",
              "    .dataframe tbody tr th:only-of-type {\n",
              "        vertical-align: middle;\n",
              "    }\n",
              "\n",
              "    .dataframe tbody tr th {\n",
              "        vertical-align: top;\n",
              "    }\n",
              "\n",
              "    .dataframe thead th {\n",
              "        text-align: right;\n",
              "    }\n",
              "</style>\n",
              "<table border=\"1\" class=\"dataframe\">\n",
              "  <thead>\n",
              "    <tr style=\"text-align: right;\">\n",
              "      <th></th>\n",
              "      <th>campaign</th>\n",
              "      <th>duration</th>\n",
              "      <th>previous</th>\n",
              "      <th>contact</th>\n",
              "      <th>difficulty</th>\n",
              "      <th>housing</th>\n",
              "      <th>poutcome</th>\n",
              "    </tr>\n",
              "  </thead>\n",
              "  <tbody>\n",
              "    <tr>\n",
              "      <th>0</th>\n",
              "      <td>1</td>\n",
              "      <td>1042</td>\n",
              "      <td>0</td>\n",
              "      <td>unknown</td>\n",
              "      <td>-1</td>\n",
              "      <td>yes</td>\n",
              "      <td>unknown</td>\n",
              "    </tr>\n",
              "    <tr>\n",
              "      <th>1</th>\n",
              "      <td>1</td>\n",
              "      <td>1467</td>\n",
              "      <td>0</td>\n",
              "      <td>unknown</td>\n",
              "      <td>-1</td>\n",
              "      <td>no</td>\n",
              "      <td>unknown</td>\n",
              "    </tr>\n",
              "    <tr>\n",
              "      <th>2</th>\n",
              "      <td>1</td>\n",
              "      <td>1389</td>\n",
              "      <td>0</td>\n",
              "      <td>unknown</td>\n",
              "      <td>-1</td>\n",
              "      <td>yes</td>\n",
              "      <td>unknown</td>\n",
              "    </tr>\n",
              "    <tr>\n",
              "      <th>3</th>\n",
              "      <td>1</td>\n",
              "      <td>579</td>\n",
              "      <td>0</td>\n",
              "      <td>unknown</td>\n",
              "      <td>-1</td>\n",
              "      <td>yes</td>\n",
              "      <td>unknown</td>\n",
              "    </tr>\n",
              "    <tr>\n",
              "      <th>4</th>\n",
              "      <td>2</td>\n",
              "      <td>673</td>\n",
              "      <td>0</td>\n",
              "      <td>unknown</td>\n",
              "      <td>-1</td>\n",
              "      <td>no</td>\n",
              "      <td>unknown</td>\n",
              "    </tr>\n",
              "  </tbody>\n",
              "</table>\n",
              "</div>\n",
              "      <button class=\"colab-df-convert\" onclick=\"convertToInteractive('df-60e2a2f1-6269-429d-a641-981a9d0e72ef')\"\n",
              "              title=\"Convert this dataframe to an interactive table.\"\n",
              "              style=\"display:none;\">\n",
              "        \n",
              "  <svg xmlns=\"http://www.w3.org/2000/svg\" height=\"24px\"viewBox=\"0 0 24 24\"\n",
              "       width=\"24px\">\n",
              "    <path d=\"M0 0h24v24H0V0z\" fill=\"none\"/>\n",
              "    <path d=\"M18.56 5.44l.94 2.06.94-2.06 2.06-.94-2.06-.94-.94-2.06-.94 2.06-2.06.94zm-11 1L8.5 8.5l.94-2.06 2.06-.94-2.06-.94L8.5 2.5l-.94 2.06-2.06.94zm10 10l.94 2.06.94-2.06 2.06-.94-2.06-.94-.94-2.06-.94 2.06-2.06.94z\"/><path d=\"M17.41 7.96l-1.37-1.37c-.4-.4-.92-.59-1.43-.59-.52 0-1.04.2-1.43.59L10.3 9.45l-7.72 7.72c-.78.78-.78 2.05 0 2.83L4 21.41c.39.39.9.59 1.41.59.51 0 1.02-.2 1.41-.59l7.78-7.78 2.81-2.81c.8-.78.8-2.07 0-2.86zM5.41 20L4 18.59l7.72-7.72 1.47 1.35L5.41 20z\"/>\n",
              "  </svg>\n",
              "      </button>\n",
              "      \n",
              "  <style>\n",
              "    .colab-df-container {\n",
              "      display:flex;\n",
              "      flex-wrap:wrap;\n",
              "      gap: 12px;\n",
              "    }\n",
              "\n",
              "    .colab-df-convert {\n",
              "      background-color: #E8F0FE;\n",
              "      border: none;\n",
              "      border-radius: 50%;\n",
              "      cursor: pointer;\n",
              "      display: none;\n",
              "      fill: #1967D2;\n",
              "      height: 32px;\n",
              "      padding: 0 0 0 0;\n",
              "      width: 32px;\n",
              "    }\n",
              "\n",
              "    .colab-df-convert:hover {\n",
              "      background-color: #E2EBFA;\n",
              "      box-shadow: 0px 1px 2px rgba(60, 64, 67, 0.3), 0px 1px 3px 1px rgba(60, 64, 67, 0.15);\n",
              "      fill: #174EA6;\n",
              "    }\n",
              "\n",
              "    [theme=dark] .colab-df-convert {\n",
              "      background-color: #3B4455;\n",
              "      fill: #D2E3FC;\n",
              "    }\n",
              "\n",
              "    [theme=dark] .colab-df-convert:hover {\n",
              "      background-color: #434B5C;\n",
              "      box-shadow: 0px 1px 3px 1px rgba(0, 0, 0, 0.15);\n",
              "      filter: drop-shadow(0px 1px 2px rgba(0, 0, 0, 0.3));\n",
              "      fill: #FFFFFF;\n",
              "    }\n",
              "  </style>\n",
              "\n",
              "      <script>\n",
              "        const buttonEl =\n",
              "          document.querySelector('#df-60e2a2f1-6269-429d-a641-981a9d0e72ef button.colab-df-convert');\n",
              "        buttonEl.style.display =\n",
              "          google.colab.kernel.accessAllowed ? 'block' : 'none';\n",
              "\n",
              "        async function convertToInteractive(key) {\n",
              "          const element = document.querySelector('#df-60e2a2f1-6269-429d-a641-981a9d0e72ef');\n",
              "          const dataTable =\n",
              "            await google.colab.kernel.invokeFunction('convertToInteractive',\n",
              "                                                     [key], {});\n",
              "          if (!dataTable) return;\n",
              "\n",
              "          const docLinkHtml = 'Like what you see? Visit the ' +\n",
              "            '<a target=\"_blank\" href=https://colab.research.google.com/notebooks/data_table.ipynb>data table notebook</a>'\n",
              "            + ' to learn more about interactive tables.';\n",
              "          element.innerHTML = '';\n",
              "          dataTable['output_type'] = 'display_data';\n",
              "          await google.colab.output.renderOutput(dataTable, element);\n",
              "          const docLink = document.createElement('div');\n",
              "          docLink.innerHTML = docLinkHtml;\n",
              "          element.appendChild(docLink);\n",
              "        }\n",
              "      </script>\n",
              "    </div>\n",
              "  </div>\n",
              "  "
            ]
          },
          "metadata": {},
          "execution_count": 24
        }
      ]
    },
    {
      "cell_type": "code",
      "source": [
        "df_features_model.info()"
      ],
      "metadata": {
        "colab": {
          "base_uri": "https://localhost:8080/"
        },
        "id": "-cMHvKklmIW9",
        "outputId": "847a0401-66f7-4de3-c29e-2dae7505035e"
      },
      "execution_count": 25,
      "outputs": [
        {
          "output_type": "stream",
          "name": "stdout",
          "text": [
            "<class 'pandas.core.frame.DataFrame'>\n",
            "RangeIndex: 11162 entries, 0 to 11161\n",
            "Data columns (total 7 columns):\n",
            " #   Column      Non-Null Count  Dtype   \n",
            "---  ------      --------------  -----   \n",
            " 0   campaign    11162 non-null  int64   \n",
            " 1   duration    11162 non-null  int64   \n",
            " 2   previous    11162 non-null  int64   \n",
            " 3   contact     11162 non-null  category\n",
            " 4   difficulty  11162 non-null  category\n",
            " 5   housing     11162 non-null  category\n",
            " 6   poutcome    11162 non-null  category\n",
            "dtypes: category(4), int64(3)\n",
            "memory usage: 306.0 KB\n"
          ]
        }
      ]
    },
    {
      "cell_type": "markdown",
      "source": [
        "### Modelagem"
      ],
      "metadata": {
        "id": "KDygSoUVbJy3"
      }
    },
    {
      "cell_type": "markdown",
      "source": [
        "#### Separação em dados de treino e teste"
      ],
      "metadata": {
        "id": "0m3sbI8NbSK6"
      }
    },
    {
      "cell_type": "code",
      "source": [
        "# Separação em dados de treino e teste\n",
        "x_train, x_test, y_train, y_test = train_test_split(df_features_model, df[var_resp], test_size=0.3, random_state=42)"
      ],
      "metadata": {
        "id": "rT0zwvNGXG9F"
      },
      "execution_count": 26,
      "outputs": []
    },
    {
      "cell_type": "markdown",
      "source": [
        "#### Pipeline"
      ],
      "metadata": {
        "id": "yvIq8bW_az4y"
      }
    },
    {
      "cell_type": "code",
      "source": [
        "from sklearn.preprocessing import OneHotEncoder\n",
        "from sklearn.compose import ColumnTransformer, make_column_selector\n",
        "from sklearn.pipeline import Pipeline"
      ],
      "metadata": {
        "id": "UuKqmABYaLFx"
      },
      "execution_count": 27,
      "outputs": []
    },
    {
      "cell_type": "markdown",
      "source": [
        "Função que cria um pipeline sequencial de preprocessamento e modelagem dos dados, que é treinado e retorna os scores de cross-validation.\n",
        "\n",
        "Caso sejam passados para a função o parâmetro `params` (dicionário de hiperparâmetros a serem testados), ela executa o Tunning de hiperparâmetros utilizando o otimizador `BayesSearchCV` da biblioteca scikit-optimize, e retorna modelo treinado com os melhores hiperparâmetros selecioados pelo otimizador."
      ],
      "metadata": {
        "id": "cfQDucbCOmMH"
      }
    },
    {
      "cell_type": "code",
      "source": [
        "def modelagem(model, X_sample, y_sample, score=\"accuracy\", params=False):\n",
        "  # Start time count\n",
        "  start = time.time()\n",
        "  \n",
        "  # Pipeline de pre-processamento\n",
        "  preprocess = ColumnTransformer([\n",
        "                                  ('numerical_transformer', MinMaxScaler(), make_column_selector(dtype_include='int64')),\n",
        "                                  ('categorical_transformer', OneHotEncoder(drop='first', handle_unknown='ignore'), make_column_selector(dtype_include='category'))\n",
        "  ], remainder='passthrough')\n",
        "\n",
        "  # Pipeline de modelagem\n",
        "  model_pipeline = Pipeline([('preprocess', preprocess),\n",
        "                       ('model', model)])\n",
        "  \n",
        "  # Stratified Cross Validation \n",
        "  n_cv = StratifiedKFold(n_splits=5, shuffle=True, random_state=42)\n",
        "  \n",
        "  if not params:\n",
        "    results = cross_val_score(model_pipeline, X_sample, y_sample, cv=n_cv, scoring=score, n_jobs=-1)    \n",
        "    # End time count\n",
        "    final = time.time() - start\n",
        "    minutes = int(final/60)\n",
        "    seconds_diff = final - (minutes*60)\n",
        "    print(f'Tempo decorrido: {minutes:.0f} minutos e {seconds_diff:.0f} segundos para a modelagem.')    \n",
        "    return results\n",
        "  \n",
        "  # elif model.__class__.__name__ == 'MLPClassifier':\n",
        "  #   @use_named_args(params)\n",
        "  #   def evaluate_model(**params):      \n",
        "  #     params['hidden_layer_sizes'] = (params['n_neurons_per_layer'],)*params['n_hidden_layer']\n",
        "  #     params.pop('n_neurons_per_layer')\n",
        "  #     params.pop('n_hidden_layer')       \n",
        "  #     model.set_params(**params)      \n",
        "  #     results = cross_val_score(model_pipeline, X_sample, y_sample, cv=n_cv, scoring=score, n_jobs=-1)\n",
        "  #     return results.mean()\n",
        "\n",
        "  #   result = gp_minimize(evaluate_model, params, n_calls=36, n_jobs=-1, random_state=42)\n",
        "  #   final = time.time() - start\n",
        "  #   print(f'Time to run: {final:.2f} seconds for modeling.')\n",
        "  #   return result\n",
        "\n",
        "  # Params Search\n",
        "  bayes_search = BayesSearchCV(model_pipeline, search_spaces=params, cv=n_cv, scoring=score, n_jobs=-1, n_iter=36, verbose=10)\n",
        "\n",
        "  # Search Result\n",
        "  result = bayes_search.fit(X_sample, y_sample)\n",
        "\n",
        "  # End time count\n",
        "  final = time.time() - start\n",
        "  minutes = int(final/60)\n",
        "  seconds_diff = final - (minutes*60)\n",
        "  print(f'Tempo decorrido: {minutes:.0f} minutos e {seconds_diff:.0f} segundos para a modelagem.')\n",
        "\n",
        "  return result\n",
        "\n"
      ],
      "metadata": {
        "id": "xavq_muWkYY9"
      },
      "execution_count": 28,
      "outputs": []
    },
    {
      "cell_type": "markdown",
      "source": [
        "*_Nota_*: BayesSearchCV - Essa abordagem usa otimização bayesiana passo a passo para explorar os hiperparâmetros mais promissores no espaço do problema."
      ],
      "metadata": {
        "id": "1E8n4OuOGoUk"
      }
    },
    {
      "cell_type": "markdown",
      "source": [
        "#### Instanciamento dos Modelos e definição de parâmetros"
      ],
      "metadata": {
        "id": "NMEYUkrE5YSu"
      }
    },
    {
      "cell_type": "code",
      "source": [
        "# Multi-layer Perceptron classifier\n",
        "nn_model = MLPClassifier(random_state=42)\n",
        "\n",
        "#  Multi-layer Perceptron Parameters    \n",
        "# nn_param_seach_space = [\n",
        "#                         Integer(1, 3, name='n_hidden_layer'),\n",
        "#                         Integer(200, 250, name='n_neurons_per_layer'),\n",
        "#                         Categorical(['identity', 'logistic', 'tanh', 'relu'], name='activation'),\n",
        "#                         Categorical(['lbfgs', 'sgd', 'adam'], name='solver'),\n",
        "#                         Real(1e-6, 1e-2, prior='log-uniform', name='alpha'),\n",
        "#                         Categorical(['constant', 'invscaling', 'adaptive'], name='learning_rate')]\n",
        "\n",
        "nn_param_seach_space =   {\"model__activation\": Categorical(['identity', 'logistic', 'tanh', 'relu']),\n",
        "                          \"model__solver\": Categorical(['lbfgs', 'sgd', 'adam']),                          \n",
        "                          \"model__alpha\": Real(1e-6, 1e-2, prior='log-uniform'),\n",
        "                          \"model__learning_rate\": Categorical(['constant', 'invscaling', 'adaptive'])}"
      ],
      "metadata": {
        "id": "2Aj7NNVpxMrO"
      },
      "execution_count": null,
      "outputs": []
    },
    {
      "cell_type": "code",
      "source": [
        "# Random Forest Model\n",
        "rf_model = RandomForestClassifier(bootstrap=True, random_state=42)\n",
        "\n",
        "# Random Forest Parameters   \n",
        "rf_param_seach_space = {\"model__min_samples_leaf\": Integer(2, 30, prior='uniform'),\n",
        "                          \"model__min_samples_split\": Integer(2, 20, prior='uniform'),\n",
        "                          \"model__max_depth\": Integer(2, 10000, prior='log-uniform'),\n",
        "                          \"model__n_estimators\": Integer(2, 10000, prior='log-uniform'),\n",
        "                          \"model__max_samples\": Real(0.05, 0.5),\n",
        "                          \"model__criterion\": Categorical([\"gini\", \"entropy\"])}"
      ],
      "metadata": {
        "id": "0hD-oSoI52AS"
      },
      "execution_count": null,
      "outputs": []
    },
    {
      "cell_type": "code",
      "source": [
        "# XGB CLassifier Model\n",
        "xgbc_model = GradientBoostingClassifier(random_state=42)\n",
        "\n",
        "# XGB Classifier Parameters\n",
        "xgbc_param_seach_space = {\"model__max_features\": Categorical([None,'sqrt', 'log2']),\n",
        "                            \"model__criterion\": Categorical([\"friedman_mse\",\"squared_error\"]),\n",
        "                            \"model__learning_rate\": Real(0.1, 0.5),\n",
        "                            \"model__n_estimators\": Integer(50,200),\n",
        "                            \"model__ccp_alpha\": Real(0.0, 0.2),\n",
        "                            \"model__max_depth\": Integer(2, 10000, prior='log-uniform'),}"
      ],
      "metadata": {
        "id": "LpqMNjFD6AjW"
      },
      "execution_count": null,
      "outputs": []
    },
    {
      "cell_type": "markdown",
      "source": [
        "#### Baseline"
      ],
      "metadata": {
        "id": "kO86_VMn_Vih"
      }
    },
    {
      "cell_type": "code",
      "source": [
        "nn_base = modelagem(nn_model, x_train, y_train)\n",
        "print(\"Average accuracy: %f +- %f\" %(nn_base.mean(), nn_base.std()))"
      ],
      "metadata": {
        "colab": {
          "base_uri": "https://localhost:8080/"
        },
        "id": "kjrTMBva_T6W",
        "outputId": "6679d5fd-987a-4976-a23f-e3a86316289a"
      },
      "execution_count": null,
      "outputs": [
        {
          "output_type": "stream",
          "name": "stdout",
          "text": [
            "Tempo decorrido: 0 minutos e 24 segundos para a modelagem.\n",
            "Average accuracy: 0.804174 +- 0.012217\n"
          ]
        }
      ]
    },
    {
      "cell_type": "code",
      "source": [
        "rf_base = modelagem(rf_model, x_train, y_train)\n",
        "print(\"Average accuracy: %f +- %f\" %(rf_base.mean(), rf_base.std()))"
      ],
      "metadata": {
        "colab": {
          "base_uri": "https://localhost:8080/"
        },
        "id": "rc_-9XWh9_n1",
        "outputId": "d315d76c-da0c-4d76-811c-1bd0ea81df7f"
      },
      "execution_count": null,
      "outputs": [
        {
          "output_type": "stream",
          "name": "stdout",
          "text": [
            "Tempo decorrido: 0 minutos e 3 segundos para a modelagem.\n",
            "Average accuracy: 0.748239 +- 0.015898\n"
          ]
        }
      ]
    },
    {
      "cell_type": "code",
      "source": [
        "xgbc_base = modelagem(xgbc_model, x_train, y_train)\n",
        "print(\"Average accuracy: %f +- %f\" %(xgbc_base.mean(), xgbc_base.std()))"
      ],
      "metadata": {
        "colab": {
          "base_uri": "https://localhost:8080/"
        },
        "id": "-7SG54TpE0yW",
        "outputId": "21ac2db0-a2ca-4f01-bf5e-0a646fbfbfe7"
      },
      "execution_count": null,
      "outputs": [
        {
          "output_type": "stream",
          "name": "stdout",
          "text": [
            "Tempo decorrido: 0 minutos e 2 segundos para a modelagem.\n",
            "Average accuracy: 0.808397 +- 0.009530\n"
          ]
        }
      ]
    },
    {
      "cell_type": "markdown",
      "source": [
        "#### Tunning de parâmetros"
      ],
      "metadata": {
        "id": "8-_lEdG2YnzC"
      }
    },
    {
      "cell_type": "code",
      "source": [
        "nn_tunned = modelagem(nn_model, x_train, y_train, params=nn_param_seach_space)\n",
        "print('')\n",
        "print(format('Multi-layer Perceptron classifier after hyperparameters tunning','*^82'))\n",
        "print(f'Accuracy for train set: {nn_tunned.best_score_:.4f}')\n",
        "print(f'Accuracy for test set: {nn_tunned.score(x_test, y_test):.4f}')"
      ],
      "metadata": {
        "colab": {
          "base_uri": "https://localhost:8080/"
        },
        "id": "YBMYCO6UUzxw",
        "outputId": "5255c2e6-9ed6-413d-8bb2-41e74bd103c9"
      },
      "execution_count": null,
      "outputs": [
        {
          "output_type": "stream",
          "name": "stdout",
          "text": [
            "Fitting 5 folds for each of 1 candidates, totalling 5 fits\n",
            "Fitting 5 folds for each of 1 candidates, totalling 5 fits\n",
            "Fitting 5 folds for each of 1 candidates, totalling 5 fits\n",
            "Fitting 5 folds for each of 1 candidates, totalling 5 fits\n",
            "Fitting 5 folds for each of 1 candidates, totalling 5 fits\n",
            "Fitting 5 folds for each of 1 candidates, totalling 5 fits\n",
            "Fitting 5 folds for each of 1 candidates, totalling 5 fits\n",
            "Fitting 5 folds for each of 1 candidates, totalling 5 fits\n",
            "Fitting 5 folds for each of 1 candidates, totalling 5 fits\n",
            "Fitting 5 folds for each of 1 candidates, totalling 5 fits\n",
            "Fitting 5 folds for each of 1 candidates, totalling 5 fits\n",
            "Fitting 5 folds for each of 1 candidates, totalling 5 fits\n",
            "Fitting 5 folds for each of 1 candidates, totalling 5 fits\n",
            "Fitting 5 folds for each of 1 candidates, totalling 5 fits\n",
            "Fitting 5 folds for each of 1 candidates, totalling 5 fits\n",
            "Fitting 5 folds for each of 1 candidates, totalling 5 fits\n",
            "Fitting 5 folds for each of 1 candidates, totalling 5 fits\n",
            "Fitting 5 folds for each of 1 candidates, totalling 5 fits\n",
            "Fitting 5 folds for each of 1 candidates, totalling 5 fits\n",
            "Fitting 5 folds for each of 1 candidates, totalling 5 fits\n"
          ]
        },
        {
          "output_type": "stream",
          "name": "stderr",
          "text": [
            "/usr/local/lib/python3.7/dist-packages/skopt/optimizer/optimizer.py:449: UserWarning: The objective has been evaluated at this point before.\n",
            "  warnings.warn(\"The objective has been evaluated \"\n"
          ]
        },
        {
          "output_type": "stream",
          "name": "stdout",
          "text": [
            "Fitting 5 folds for each of 1 candidates, totalling 5 fits\n",
            "Fitting 5 folds for each of 1 candidates, totalling 5 fits\n",
            "Fitting 5 folds for each of 1 candidates, totalling 5 fits\n",
            "Fitting 5 folds for each of 1 candidates, totalling 5 fits\n",
            "Fitting 5 folds for each of 1 candidates, totalling 5 fits\n",
            "Fitting 5 folds for each of 1 candidates, totalling 5 fits\n",
            "Fitting 5 folds for each of 1 candidates, totalling 5 fits\n",
            "Fitting 5 folds for each of 1 candidates, totalling 5 fits\n",
            "Fitting 5 folds for each of 1 candidates, totalling 5 fits\n",
            "Fitting 5 folds for each of 1 candidates, totalling 5 fits\n",
            "Fitting 5 folds for each of 1 candidates, totalling 5 fits\n",
            "Fitting 5 folds for each of 1 candidates, totalling 5 fits\n"
          ]
        },
        {
          "output_type": "stream",
          "name": "stderr",
          "text": [
            "/usr/local/lib/python3.7/dist-packages/skopt/optimizer/optimizer.py:449: UserWarning: The objective has been evaluated at this point before.\n",
            "  warnings.warn(\"The objective has been evaluated \"\n"
          ]
        },
        {
          "output_type": "stream",
          "name": "stdout",
          "text": [
            "Fitting 5 folds for each of 1 candidates, totalling 5 fits\n",
            "Fitting 5 folds for each of 1 candidates, totalling 5 fits\n",
            "Fitting 5 folds for each of 1 candidates, totalling 5 fits\n",
            "Fitting 5 folds for each of 1 candidates, totalling 5 fits\n",
            "Tempo decorrido: 11 minutos e 31 segundos para a modelagem.\n",
            "\n",
            "*********Multi-layer Perceptron classifier after hyperparameters tunning**********\n",
            "Accuracy for train set: 0.8049\n",
            "Accuracy for test set: 0.7996\n"
          ]
        },
        {
          "output_type": "stream",
          "name": "stderr",
          "text": [
            "/usr/local/lib/python3.7/dist-packages/sklearn/neural_network/_multilayer_perceptron.py:696: ConvergenceWarning: Stochastic Optimizer: Maximum iterations (200) reached and the optimization hasn't converged yet.\n",
            "  ConvergenceWarning,\n"
          ]
        }
      ]
    },
    {
      "cell_type": "code",
      "source": [
        "rf_tunned = modelagem(rf_model, x_train, y_train, params=rf_param_seach_space)\n",
        "print('')\n",
        "print(format(f'{rf_model.__class__.__name__} after hyperparameters tunning','*^82'))\n",
        "print(f'Accuracy for train set: {rf_tunned.best_score_:.4f}')\n",
        "print(f'Accuracy for test set: {rf_tunned.score(x_test, y_test):.4f}')"
      ],
      "metadata": {
        "colab": {
          "base_uri": "https://localhost:8080/"
        },
        "id": "Tj3gfebBWECs",
        "outputId": "27f9d3f9-225c-47cd-be8d-3fe4f77cb2de"
      },
      "execution_count": null,
      "outputs": [
        {
          "output_type": "stream",
          "name": "stdout",
          "text": [
            "Fitting 5 folds for each of 1 candidates, totalling 5 fits\n",
            "Fitting 5 folds for each of 1 candidates, totalling 5 fits\n",
            "Fitting 5 folds for each of 1 candidates, totalling 5 fits\n",
            "Fitting 5 folds for each of 1 candidates, totalling 5 fits\n",
            "Fitting 5 folds for each of 1 candidates, totalling 5 fits\n",
            "Fitting 5 folds for each of 1 candidates, totalling 5 fits\n",
            "Fitting 5 folds for each of 1 candidates, totalling 5 fits\n",
            "Fitting 5 folds for each of 1 candidates, totalling 5 fits\n",
            "Fitting 5 folds for each of 1 candidates, totalling 5 fits\n",
            "Fitting 5 folds for each of 1 candidates, totalling 5 fits\n",
            "Fitting 5 folds for each of 1 candidates, totalling 5 fits\n",
            "Fitting 5 folds for each of 1 candidates, totalling 5 fits\n",
            "Fitting 5 folds for each of 1 candidates, totalling 5 fits\n",
            "Fitting 5 folds for each of 1 candidates, totalling 5 fits\n",
            "Fitting 5 folds for each of 1 candidates, totalling 5 fits\n",
            "Fitting 5 folds for each of 1 candidates, totalling 5 fits\n",
            "Fitting 5 folds for each of 1 candidates, totalling 5 fits\n",
            "Fitting 5 folds for each of 1 candidates, totalling 5 fits\n",
            "Fitting 5 folds for each of 1 candidates, totalling 5 fits\n",
            "Fitting 5 folds for each of 1 candidates, totalling 5 fits\n",
            "Fitting 5 folds for each of 1 candidates, totalling 5 fits\n",
            "Fitting 5 folds for each of 1 candidates, totalling 5 fits\n",
            "Fitting 5 folds for each of 1 candidates, totalling 5 fits\n"
          ]
        },
        {
          "output_type": "stream",
          "name": "stderr",
          "text": [
            "/usr/local/lib/python3.7/dist-packages/joblib/externals/loky/process_executor.py:705: UserWarning: A worker stopped while some jobs were given to the executor. This can be caused by a too short worker timeout or by a memory leak.\n",
            "  \"timeout or by a memory leak.\", UserWarning\n"
          ]
        },
        {
          "output_type": "stream",
          "name": "stdout",
          "text": [
            "Fitting 5 folds for each of 1 candidates, totalling 5 fits\n",
            "Fitting 5 folds for each of 1 candidates, totalling 5 fits\n",
            "Fitting 5 folds for each of 1 candidates, totalling 5 fits\n",
            "Fitting 5 folds for each of 1 candidates, totalling 5 fits\n",
            "Fitting 5 folds for each of 1 candidates, totalling 5 fits\n",
            "Fitting 5 folds for each of 1 candidates, totalling 5 fits\n",
            "Fitting 5 folds for each of 1 candidates, totalling 5 fits\n",
            "Fitting 5 folds for each of 1 candidates, totalling 5 fits\n",
            "Fitting 5 folds for each of 1 candidates, totalling 5 fits\n",
            "Fitting 5 folds for each of 1 candidates, totalling 5 fits\n",
            "Fitting 5 folds for each of 1 candidates, totalling 5 fits\n",
            "Fitting 5 folds for each of 1 candidates, totalling 5 fits\n",
            "Fitting 5 folds for each of 1 candidates, totalling 5 fits\n",
            "Tempo decorrido: 29 minutos e 45 segundos para a modelagem.\n",
            "\n",
            "***************RandomForestClassifier after hyperparameters tunning***************\n",
            "Accuracy for train set: 0.8080\n",
            "Accuracy for test set: 0.8029\n"
          ]
        }
      ]
    },
    {
      "cell_type": "code",
      "source": [
        "xgbc_tunned = modelagem(xgbc_model, x_train, y_train, params=xgbc_param_seach_space)\n",
        "print('')\n",
        "print(format(f'{xgbc_model.__class__.__name__} after hyperparameters tunning','*^82'))\n",
        "print(f'Accuracy for train set: {xgbc_tunned.best_score_:.4f}')\n",
        "print(f'Accuracy for test set: {xgbc_tunned.score(x_test, y_test):.4f}')"
      ],
      "metadata": {
        "colab": {
          "base_uri": "https://localhost:8080/"
        },
        "id": "3QTK5Y7IaiAK",
        "outputId": "6c36327e-3d6f-4d39-bdd0-f3763850b3b4"
      },
      "execution_count": null,
      "outputs": [
        {
          "output_type": "stream",
          "name": "stdout",
          "text": [
            "Fitting 5 folds for each of 1 candidates, totalling 5 fits\n",
            "Fitting 5 folds for each of 1 candidates, totalling 5 fits\n",
            "Fitting 5 folds for each of 1 candidates, totalling 5 fits\n",
            "Fitting 5 folds for each of 1 candidates, totalling 5 fits\n",
            "Fitting 5 folds for each of 1 candidates, totalling 5 fits\n",
            "Fitting 5 folds for each of 1 candidates, totalling 5 fits\n",
            "Fitting 5 folds for each of 1 candidates, totalling 5 fits\n",
            "Fitting 5 folds for each of 1 candidates, totalling 5 fits\n",
            "Fitting 5 folds for each of 1 candidates, totalling 5 fits\n",
            "Fitting 5 folds for each of 1 candidates, totalling 5 fits\n",
            "Fitting 5 folds for each of 1 candidates, totalling 5 fits\n",
            "Fitting 5 folds for each of 1 candidates, totalling 5 fits\n",
            "Fitting 5 folds for each of 1 candidates, totalling 5 fits\n",
            "Fitting 5 folds for each of 1 candidates, totalling 5 fits\n",
            "Fitting 5 folds for each of 1 candidates, totalling 5 fits\n",
            "Fitting 5 folds for each of 1 candidates, totalling 5 fits\n",
            "Fitting 5 folds for each of 1 candidates, totalling 5 fits\n",
            "Fitting 5 folds for each of 1 candidates, totalling 5 fits\n",
            "Fitting 5 folds for each of 1 candidates, totalling 5 fits\n",
            "Fitting 5 folds for each of 1 candidates, totalling 5 fits\n",
            "Fitting 5 folds for each of 1 candidates, totalling 5 fits\n",
            "Fitting 5 folds for each of 1 candidates, totalling 5 fits\n",
            "Fitting 5 folds for each of 1 candidates, totalling 5 fits\n",
            "Fitting 5 folds for each of 1 candidates, totalling 5 fits\n",
            "Fitting 5 folds for each of 1 candidates, totalling 5 fits\n",
            "Fitting 5 folds for each of 1 candidates, totalling 5 fits\n",
            "Fitting 5 folds for each of 1 candidates, totalling 5 fits\n",
            "Fitting 5 folds for each of 1 candidates, totalling 5 fits\n"
          ]
        },
        {
          "output_type": "stream",
          "name": "stderr",
          "text": [
            "/usr/local/lib/python3.7/dist-packages/skopt/optimizer/optimizer.py:449: UserWarning: The objective has been evaluated at this point before.\n",
            "  warnings.warn(\"The objective has been evaluated \"\n"
          ]
        },
        {
          "output_type": "stream",
          "name": "stdout",
          "text": [
            "Fitting 5 folds for each of 1 candidates, totalling 5 fits\n",
            "Fitting 5 folds for each of 1 candidates, totalling 5 fits\n",
            "Fitting 5 folds for each of 1 candidates, totalling 5 fits\n"
          ]
        },
        {
          "output_type": "stream",
          "name": "stderr",
          "text": [
            "/usr/local/lib/python3.7/dist-packages/skopt/optimizer/optimizer.py:449: UserWarning: The objective has been evaluated at this point before.\n",
            "  warnings.warn(\"The objective has been evaluated \"\n"
          ]
        },
        {
          "output_type": "stream",
          "name": "stdout",
          "text": [
            "Fitting 5 folds for each of 1 candidates, totalling 5 fits\n"
          ]
        },
        {
          "output_type": "stream",
          "name": "stderr",
          "text": [
            "/usr/local/lib/python3.7/dist-packages/skopt/optimizer/optimizer.py:449: UserWarning: The objective has been evaluated at this point before.\n",
            "  warnings.warn(\"The objective has been evaluated \"\n"
          ]
        },
        {
          "output_type": "stream",
          "name": "stdout",
          "text": [
            "Fitting 5 folds for each of 1 candidates, totalling 5 fits\n",
            "Fitting 5 folds for each of 1 candidates, totalling 5 fits\n",
            "Fitting 5 folds for each of 1 candidates, totalling 5 fits\n",
            "Fitting 5 folds for each of 1 candidates, totalling 5 fits\n",
            "Tempo decorrido: 5 minutos e 10 segundos para a modelagem.\n",
            "\n",
            "*************GradientBoostingClassifier after hyperparameters tunning*************\n",
            "Accuracy for train set: 0.8053\n",
            "Accuracy for test set: 0.8023\n"
          ]
        }
      ]
    },
    {
      "cell_type": "markdown",
      "source": [
        "#### Salva o melhor modelo"
      ],
      "metadata": {
        "id": "Ib_P2GN0gBGn"
      }
    },
    {
      "cell_type": "code",
      "source": [
        "joblib.dump(rf_tunned, 'rf_tunned.pkl')"
      ],
      "metadata": {
        "colab": {
          "base_uri": "https://localhost:8080/"
        },
        "id": "g2SRd6OXZvBj",
        "outputId": "a384ce9a-fbe8-4a50-89cf-7d606fc15db9"
      },
      "execution_count": null,
      "outputs": [
        {
          "output_type": "execute_result",
          "data": {
            "text/plain": [
              "['rf_tunned.pkl']"
            ]
          },
          "metadata": {},
          "execution_count": 40
        }
      ]
    },
    {
      "cell_type": "code",
      "source": [
        "nn_model = joblib.load('nn_tunned.pkl')\n",
        "rf_model = joblib.load('rf_tunned.pkl')\n",
        "xgbc_model = joblib.load('xgbc_tunned.pkl')\n",
        "\n",
        "nn_bestmodel = nn_model.best_estimator_\n",
        "rf_bestmodel = rf_model.best_estimator_\n",
        "xgbc_bestmodel = xgbc_model.best_estimator_"
      ],
      "metadata": {
        "id": "Nh2tnjfE7S3w"
      },
      "execution_count": null,
      "outputs": []
    },
    {
      "cell_type": "code",
      "source": [
        "df_metricas = pd.DataFrame([\n",
        "                            [accuracy_score(y_test, nn_bestmodel.predict(x_test)),roc_auc_score(y_test, nn_bestmodel.predict(x_test))],\n",
        "                            [accuracy_score(y_test, rf_bestmodel.predict(x_test)),roc_auc_score(y_test, rf_bestmodel.predict(x_test))],\n",
        "                            [accuracy_score(y_test, xgbc_bestmodel.predict(x_test)),roc_auc_score(y_test, xgbc_bestmodel.predict(x_test))],                            \n",
        "                            ])\n",
        "df_metricas.columns = ['Accuracy', 'ROC_AUC']\n",
        "df_metricas.index = ['MLPClassifier', 'RandomForestClassifier', 'GradientBoostingClassifier']"
      ],
      "metadata": {
        "id": "RgGBpxqlhC9R"
      },
      "execution_count": null,
      "outputs": []
    },
    {
      "cell_type": "code",
      "source": [
        "df_metricas.sort_values(by='Accuracy', ascending=False)"
      ],
      "metadata": {
        "colab": {
          "base_uri": "https://localhost:8080/",
          "height": 143
        },
        "id": "_omWNQ159emm",
        "outputId": "c1378562-4fe7-4ec6-9949-07c46cdfd017"
      },
      "execution_count": null,
      "outputs": [
        {
          "output_type": "execute_result",
          "data": {
            "text/plain": [
              "                            Accuracy   ROC_AUC\n",
              "MLPClassifier               0.804121  0.804260\n",
              "RandomForestClassifier      0.802926  0.802774\n",
              "GradientBoostingClassifier  0.802329  0.801718"
            ],
            "text/html": [
              "\n",
              "  <div id=\"df-67a43722-12a1-4ee8-9766-95831528666f\">\n",
              "    <div class=\"colab-df-container\">\n",
              "      <div>\n",
              "<style scoped>\n",
              "    .dataframe tbody tr th:only-of-type {\n",
              "        vertical-align: middle;\n",
              "    }\n",
              "\n",
              "    .dataframe tbody tr th {\n",
              "        vertical-align: top;\n",
              "    }\n",
              "\n",
              "    .dataframe thead th {\n",
              "        text-align: right;\n",
              "    }\n",
              "</style>\n",
              "<table border=\"1\" class=\"dataframe\">\n",
              "  <thead>\n",
              "    <tr style=\"text-align: right;\">\n",
              "      <th></th>\n",
              "      <th>Accuracy</th>\n",
              "      <th>ROC_AUC</th>\n",
              "    </tr>\n",
              "  </thead>\n",
              "  <tbody>\n",
              "    <tr>\n",
              "      <th>MLPClassifier</th>\n",
              "      <td>0.804121</td>\n",
              "      <td>0.804260</td>\n",
              "    </tr>\n",
              "    <tr>\n",
              "      <th>RandomForestClassifier</th>\n",
              "      <td>0.802926</td>\n",
              "      <td>0.802774</td>\n",
              "    </tr>\n",
              "    <tr>\n",
              "      <th>GradientBoostingClassifier</th>\n",
              "      <td>0.802329</td>\n",
              "      <td>0.801718</td>\n",
              "    </tr>\n",
              "  </tbody>\n",
              "</table>\n",
              "</div>\n",
              "      <button class=\"colab-df-convert\" onclick=\"convertToInteractive('df-67a43722-12a1-4ee8-9766-95831528666f')\"\n",
              "              title=\"Convert this dataframe to an interactive table.\"\n",
              "              style=\"display:none;\">\n",
              "        \n",
              "  <svg xmlns=\"http://www.w3.org/2000/svg\" height=\"24px\"viewBox=\"0 0 24 24\"\n",
              "       width=\"24px\">\n",
              "    <path d=\"M0 0h24v24H0V0z\" fill=\"none\"/>\n",
              "    <path d=\"M18.56 5.44l.94 2.06.94-2.06 2.06-.94-2.06-.94-.94-2.06-.94 2.06-2.06.94zm-11 1L8.5 8.5l.94-2.06 2.06-.94-2.06-.94L8.5 2.5l-.94 2.06-2.06.94zm10 10l.94 2.06.94-2.06 2.06-.94-2.06-.94-.94-2.06-.94 2.06-2.06.94z\"/><path d=\"M17.41 7.96l-1.37-1.37c-.4-.4-.92-.59-1.43-.59-.52 0-1.04.2-1.43.59L10.3 9.45l-7.72 7.72c-.78.78-.78 2.05 0 2.83L4 21.41c.39.39.9.59 1.41.59.51 0 1.02-.2 1.41-.59l7.78-7.78 2.81-2.81c.8-.78.8-2.07 0-2.86zM5.41 20L4 18.59l7.72-7.72 1.47 1.35L5.41 20z\"/>\n",
              "  </svg>\n",
              "      </button>\n",
              "      \n",
              "  <style>\n",
              "    .colab-df-container {\n",
              "      display:flex;\n",
              "      flex-wrap:wrap;\n",
              "      gap: 12px;\n",
              "    }\n",
              "\n",
              "    .colab-df-convert {\n",
              "      background-color: #E8F0FE;\n",
              "      border: none;\n",
              "      border-radius: 50%;\n",
              "      cursor: pointer;\n",
              "      display: none;\n",
              "      fill: #1967D2;\n",
              "      height: 32px;\n",
              "      padding: 0 0 0 0;\n",
              "      width: 32px;\n",
              "    }\n",
              "\n",
              "    .colab-df-convert:hover {\n",
              "      background-color: #E2EBFA;\n",
              "      box-shadow: 0px 1px 2px rgba(60, 64, 67, 0.3), 0px 1px 3px 1px rgba(60, 64, 67, 0.15);\n",
              "      fill: #174EA6;\n",
              "    }\n",
              "\n",
              "    [theme=dark] .colab-df-convert {\n",
              "      background-color: #3B4455;\n",
              "      fill: #D2E3FC;\n",
              "    }\n",
              "\n",
              "    [theme=dark] .colab-df-convert:hover {\n",
              "      background-color: #434B5C;\n",
              "      box-shadow: 0px 1px 3px 1px rgba(0, 0, 0, 0.15);\n",
              "      filter: drop-shadow(0px 1px 2px rgba(0, 0, 0, 0.3));\n",
              "      fill: #FFFFFF;\n",
              "    }\n",
              "  </style>\n",
              "\n",
              "      <script>\n",
              "        const buttonEl =\n",
              "          document.querySelector('#df-67a43722-12a1-4ee8-9766-95831528666f button.colab-df-convert');\n",
              "        buttonEl.style.display =\n",
              "          google.colab.kernel.accessAllowed ? 'block' : 'none';\n",
              "\n",
              "        async function convertToInteractive(key) {\n",
              "          const element = document.querySelector('#df-67a43722-12a1-4ee8-9766-95831528666f');\n",
              "          const dataTable =\n",
              "            await google.colab.kernel.invokeFunction('convertToInteractive',\n",
              "                                                     [key], {});\n",
              "          if (!dataTable) return;\n",
              "\n",
              "          const docLinkHtml = 'Like what you see? Visit the ' +\n",
              "            '<a target=\"_blank\" href=https://colab.research.google.com/notebooks/data_table.ipynb>data table notebook</a>'\n",
              "            + ' to learn more about interactive tables.';\n",
              "          element.innerHTML = '';\n",
              "          dataTable['output_type'] = 'display_data';\n",
              "          await google.colab.output.renderOutput(dataTable, element);\n",
              "          const docLink = document.createElement('div');\n",
              "          docLink.innerHTML = docLinkHtml;\n",
              "          element.appendChild(docLink);\n",
              "        }\n",
              "      </script>\n",
              "    </div>\n",
              "  </div>\n",
              "  "
            ]
          },
          "metadata": {},
          "execution_count": 43
        }
      ]
    },
    {
      "cell_type": "code",
      "source": [
        "#@title parâmetros de formatação dos gráficos {display-mode: \"form\"}\n",
        "import plotly.graph_objects as go\n",
        "\n",
        "plotly_kwargs = dict(\n",
        "    title_x=0.5,\n",
        "    autosize=False,\n",
        "    plot_bgcolor='white',\n",
        "    margin=dict(l=2, r=10, t=30, b=2),\n",
        "    width=800,\n",
        "    height=400,\n",
        "    hovermode='x unified',\n",
        "    xaxis=dict(\n",
        "        showline=True,\n",
        "        showgrid=False,\n",
        "        showticklabels=True,\n",
        "        linecolor='rgb(204, 204, 204)',\n",
        "        linewidth=2,\n",
        "        ticks='outside',\n",
        "        tickfont=dict(\n",
        "            family='Arial',\n",
        "            size=12,\n",
        "            color='rgb(82, 82, 82)',\n",
        "        ),\n",
        "    )\n",
        ")"
      ],
      "metadata": {
        "id": "ojh2ha2jD3n1"
      },
      "execution_count": null,
      "outputs": []
    },
    {
      "cell_type": "code",
      "source": [
        "fig = go.Figure()\n",
        "colors = ['rgb(49,130,189)', 'rgb(115,115,115)', 'rgb(189,189,189)']\n",
        "labels = ['MLP', 'RandomForest', 'GradientBoosting']\n",
        "line_sizes = [4, 2, 2]\n",
        "spaces = [-8,1,0]\n",
        "annotations = []\n",
        "\n",
        "for line_size, label, color, space in zip(line_sizes, labels, colors, spaces):\n",
        "  fig.add_trace(go.Scatter(x=df_metricas.T.index, y=df_metricas.T[f'{label}Classifier'], name=label,\n",
        "                          line=dict(color=color, width=line_size), line_shape='spline'))\n",
        "  annotations.append(dict(xref='paper', x=0.95, y=df_metricas.T[f'{label}Classifier'][-1],\n",
        "                                  xanchor='left', yanchor='middle',\n",
        "                                  text=label, yshift=space,\n",
        "                                  font=dict(family='Arial',size=16, color=color),\n",
        "                                  showarrow=False))\n",
        "\n",
        "fig.update_traces(hovertemplate=None, mode='lines+markers')\n",
        "fig.update_layout(title=f'<b>Comparação de métricas</b>', **plotly_kwargs)\n",
        "fig.update_layout(margin=dict( autoexpand=False,r=150, l=50, b=50))\n",
        "fig.update_layout(showlegend=False, hovermode=\"x\", annotations=annotations)\n",
        "fig.show()"
      ],
      "metadata": {
        "colab": {
          "base_uri": "https://localhost:8080/",
          "height": 417
        },
        "id": "AS8gDVCBD-78",
        "outputId": "274cadf6-8d15-45b9-f47f-2736a7450fdd"
      },
      "execution_count": null,
      "outputs": [
        {
          "output_type": "display_data",
          "data": {
            "text/html": [
              "<html>\n",
              "<head><meta charset=\"utf-8\" /></head>\n",
              "<body>\n",
              "    <div>            <script src=\"https://cdnjs.cloudflare.com/ajax/libs/mathjax/2.7.5/MathJax.js?config=TeX-AMS-MML_SVG\"></script><script type=\"text/javascript\">if (window.MathJax) {MathJax.Hub.Config({SVG: {font: \"STIX-Web\"}});}</script>                <script type=\"text/javascript\">window.PlotlyConfig = {MathJaxConfig: 'local'};</script>\n",
              "        <script src=\"https://cdn.plot.ly/plotly-2.8.3.min.js\"></script>                <div id=\"99bb5339-6d02-4701-acfd-a85150a961cd\" class=\"plotly-graph-div\" style=\"height:400px; width:800px;\"></div>            <script type=\"text/javascript\">                                    window.PLOTLYENV=window.PLOTLYENV || {};                                    if (document.getElementById(\"99bb5339-6d02-4701-acfd-a85150a961cd\")) {                    Plotly.newPlot(                        \"99bb5339-6d02-4701-acfd-a85150a961cd\",                        [{\"line\":{\"color\":\"rgb(49,130,189)\",\"shape\":\"spline\",\"width\":4},\"name\":\"MLP\",\"x\":[\"Accuracy\",\"ROC_AUC\"],\"y\":[0.8041206330247835,0.8042599576908431],\"type\":\"scatter\",\"mode\":\"lines+markers\"},{\"line\":{\"color\":\"rgb(115,115,115)\",\"shape\":\"spline\",\"width\":2},\"name\":\"RandomForest\",\"x\":[\"Accuracy\",\"ROC_AUC\"],\"y\":[0.8029262466407883,0.8027742790046704],\"type\":\"scatter\",\"mode\":\"lines+markers\"},{\"line\":{\"color\":\"rgb(189,189,189)\",\"shape\":\"spline\",\"width\":2},\"name\":\"GradientBoosting\",\"x\":[\"Accuracy\",\"ROC_AUC\"],\"y\":[0.8023290534487907,0.8017179789625898],\"type\":\"scatter\",\"mode\":\"lines+markers\"}],                        {\"template\":{\"data\":{\"bar\":[{\"error_x\":{\"color\":\"#2a3f5f\"},\"error_y\":{\"color\":\"#2a3f5f\"},\"marker\":{\"line\":{\"color\":\"#E5ECF6\",\"width\":0.5},\"pattern\":{\"fillmode\":\"overlay\",\"size\":10,\"solidity\":0.2}},\"type\":\"bar\"}],\"barpolar\":[{\"marker\":{\"line\":{\"color\":\"#E5ECF6\",\"width\":0.5},\"pattern\":{\"fillmode\":\"overlay\",\"size\":10,\"solidity\":0.2}},\"type\":\"barpolar\"}],\"carpet\":[{\"aaxis\":{\"endlinecolor\":\"#2a3f5f\",\"gridcolor\":\"white\",\"linecolor\":\"white\",\"minorgridcolor\":\"white\",\"startlinecolor\":\"#2a3f5f\"},\"baxis\":{\"endlinecolor\":\"#2a3f5f\",\"gridcolor\":\"white\",\"linecolor\":\"white\",\"minorgridcolor\":\"white\",\"startlinecolor\":\"#2a3f5f\"},\"type\":\"carpet\"}],\"choropleth\":[{\"colorbar\":{\"outlinewidth\":0,\"ticks\":\"\"},\"type\":\"choropleth\"}],\"contour\":[{\"colorbar\":{\"outlinewidth\":0,\"ticks\":\"\"},\"colorscale\":[[0.0,\"#0d0887\"],[0.1111111111111111,\"#46039f\"],[0.2222222222222222,\"#7201a8\"],[0.3333333333333333,\"#9c179e\"],[0.4444444444444444,\"#bd3786\"],[0.5555555555555556,\"#d8576b\"],[0.6666666666666666,\"#ed7953\"],[0.7777777777777778,\"#fb9f3a\"],[0.8888888888888888,\"#fdca26\"],[1.0,\"#f0f921\"]],\"type\":\"contour\"}],\"contourcarpet\":[{\"colorbar\":{\"outlinewidth\":0,\"ticks\":\"\"},\"type\":\"contourcarpet\"}],\"heatmap\":[{\"colorbar\":{\"outlinewidth\":0,\"ticks\":\"\"},\"colorscale\":[[0.0,\"#0d0887\"],[0.1111111111111111,\"#46039f\"],[0.2222222222222222,\"#7201a8\"],[0.3333333333333333,\"#9c179e\"],[0.4444444444444444,\"#bd3786\"],[0.5555555555555556,\"#d8576b\"],[0.6666666666666666,\"#ed7953\"],[0.7777777777777778,\"#fb9f3a\"],[0.8888888888888888,\"#fdca26\"],[1.0,\"#f0f921\"]],\"type\":\"heatmap\"}],\"heatmapgl\":[{\"colorbar\":{\"outlinewidth\":0,\"ticks\":\"\"},\"colorscale\":[[0.0,\"#0d0887\"],[0.1111111111111111,\"#46039f\"],[0.2222222222222222,\"#7201a8\"],[0.3333333333333333,\"#9c179e\"],[0.4444444444444444,\"#bd3786\"],[0.5555555555555556,\"#d8576b\"],[0.6666666666666666,\"#ed7953\"],[0.7777777777777778,\"#fb9f3a\"],[0.8888888888888888,\"#fdca26\"],[1.0,\"#f0f921\"]],\"type\":\"heatmapgl\"}],\"histogram\":[{\"marker\":{\"pattern\":{\"fillmode\":\"overlay\",\"size\":10,\"solidity\":0.2}},\"type\":\"histogram\"}],\"histogram2d\":[{\"colorbar\":{\"outlinewidth\":0,\"ticks\":\"\"},\"colorscale\":[[0.0,\"#0d0887\"],[0.1111111111111111,\"#46039f\"],[0.2222222222222222,\"#7201a8\"],[0.3333333333333333,\"#9c179e\"],[0.4444444444444444,\"#bd3786\"],[0.5555555555555556,\"#d8576b\"],[0.6666666666666666,\"#ed7953\"],[0.7777777777777778,\"#fb9f3a\"],[0.8888888888888888,\"#fdca26\"],[1.0,\"#f0f921\"]],\"type\":\"histogram2d\"}],\"histogram2dcontour\":[{\"colorbar\":{\"outlinewidth\":0,\"ticks\":\"\"},\"colorscale\":[[0.0,\"#0d0887\"],[0.1111111111111111,\"#46039f\"],[0.2222222222222222,\"#7201a8\"],[0.3333333333333333,\"#9c179e\"],[0.4444444444444444,\"#bd3786\"],[0.5555555555555556,\"#d8576b\"],[0.6666666666666666,\"#ed7953\"],[0.7777777777777778,\"#fb9f3a\"],[0.8888888888888888,\"#fdca26\"],[1.0,\"#f0f921\"]],\"type\":\"histogram2dcontour\"}],\"mesh3d\":[{\"colorbar\":{\"outlinewidth\":0,\"ticks\":\"\"},\"type\":\"mesh3d\"}],\"parcoords\":[{\"line\":{\"colorbar\":{\"outlinewidth\":0,\"ticks\":\"\"}},\"type\":\"parcoords\"}],\"pie\":[{\"automargin\":true,\"type\":\"pie\"}],\"scatter\":[{\"marker\":{\"colorbar\":{\"outlinewidth\":0,\"ticks\":\"\"}},\"type\":\"scatter\"}],\"scatter3d\":[{\"line\":{\"colorbar\":{\"outlinewidth\":0,\"ticks\":\"\"}},\"marker\":{\"colorbar\":{\"outlinewidth\":0,\"ticks\":\"\"}},\"type\":\"scatter3d\"}],\"scattercarpet\":[{\"marker\":{\"colorbar\":{\"outlinewidth\":0,\"ticks\":\"\"}},\"type\":\"scattercarpet\"}],\"scattergeo\":[{\"marker\":{\"colorbar\":{\"outlinewidth\":0,\"ticks\":\"\"}},\"type\":\"scattergeo\"}],\"scattergl\":[{\"marker\":{\"colorbar\":{\"outlinewidth\":0,\"ticks\":\"\"}},\"type\":\"scattergl\"}],\"scattermapbox\":[{\"marker\":{\"colorbar\":{\"outlinewidth\":0,\"ticks\":\"\"}},\"type\":\"scattermapbox\"}],\"scatterpolar\":[{\"marker\":{\"colorbar\":{\"outlinewidth\":0,\"ticks\":\"\"}},\"type\":\"scatterpolar\"}],\"scatterpolargl\":[{\"marker\":{\"colorbar\":{\"outlinewidth\":0,\"ticks\":\"\"}},\"type\":\"scatterpolargl\"}],\"scatterternary\":[{\"marker\":{\"colorbar\":{\"outlinewidth\":0,\"ticks\":\"\"}},\"type\":\"scatterternary\"}],\"surface\":[{\"colorbar\":{\"outlinewidth\":0,\"ticks\":\"\"},\"colorscale\":[[0.0,\"#0d0887\"],[0.1111111111111111,\"#46039f\"],[0.2222222222222222,\"#7201a8\"],[0.3333333333333333,\"#9c179e\"],[0.4444444444444444,\"#bd3786\"],[0.5555555555555556,\"#d8576b\"],[0.6666666666666666,\"#ed7953\"],[0.7777777777777778,\"#fb9f3a\"],[0.8888888888888888,\"#fdca26\"],[1.0,\"#f0f921\"]],\"type\":\"surface\"}],\"table\":[{\"cells\":{\"fill\":{\"color\":\"#EBF0F8\"},\"line\":{\"color\":\"white\"}},\"header\":{\"fill\":{\"color\":\"#C8D4E3\"},\"line\":{\"color\":\"white\"}},\"type\":\"table\"}]},\"layout\":{\"annotationdefaults\":{\"arrowcolor\":\"#2a3f5f\",\"arrowhead\":0,\"arrowwidth\":1},\"autotypenumbers\":\"strict\",\"coloraxis\":{\"colorbar\":{\"outlinewidth\":0,\"ticks\":\"\"}},\"colorscale\":{\"diverging\":[[0,\"#8e0152\"],[0.1,\"#c51b7d\"],[0.2,\"#de77ae\"],[0.3,\"#f1b6da\"],[0.4,\"#fde0ef\"],[0.5,\"#f7f7f7\"],[0.6,\"#e6f5d0\"],[0.7,\"#b8e186\"],[0.8,\"#7fbc41\"],[0.9,\"#4d9221\"],[1,\"#276419\"]],\"sequential\":[[0.0,\"#0d0887\"],[0.1111111111111111,\"#46039f\"],[0.2222222222222222,\"#7201a8\"],[0.3333333333333333,\"#9c179e\"],[0.4444444444444444,\"#bd3786\"],[0.5555555555555556,\"#d8576b\"],[0.6666666666666666,\"#ed7953\"],[0.7777777777777778,\"#fb9f3a\"],[0.8888888888888888,\"#fdca26\"],[1.0,\"#f0f921\"]],\"sequentialminus\":[[0.0,\"#0d0887\"],[0.1111111111111111,\"#46039f\"],[0.2222222222222222,\"#7201a8\"],[0.3333333333333333,\"#9c179e\"],[0.4444444444444444,\"#bd3786\"],[0.5555555555555556,\"#d8576b\"],[0.6666666666666666,\"#ed7953\"],[0.7777777777777778,\"#fb9f3a\"],[0.8888888888888888,\"#fdca26\"],[1.0,\"#f0f921\"]]},\"colorway\":[\"#636efa\",\"#EF553B\",\"#00cc96\",\"#ab63fa\",\"#FFA15A\",\"#19d3f3\",\"#FF6692\",\"#B6E880\",\"#FF97FF\",\"#FECB52\"],\"font\":{\"color\":\"#2a3f5f\"},\"geo\":{\"bgcolor\":\"white\",\"lakecolor\":\"white\",\"landcolor\":\"#E5ECF6\",\"showlakes\":true,\"showland\":true,\"subunitcolor\":\"white\"},\"hoverlabel\":{\"align\":\"left\"},\"hovermode\":\"closest\",\"mapbox\":{\"style\":\"light\"},\"paper_bgcolor\":\"white\",\"plot_bgcolor\":\"#E5ECF6\",\"polar\":{\"angularaxis\":{\"gridcolor\":\"white\",\"linecolor\":\"white\",\"ticks\":\"\"},\"bgcolor\":\"#E5ECF6\",\"radialaxis\":{\"gridcolor\":\"white\",\"linecolor\":\"white\",\"ticks\":\"\"}},\"scene\":{\"xaxis\":{\"backgroundcolor\":\"#E5ECF6\",\"gridcolor\":\"white\",\"gridwidth\":2,\"linecolor\":\"white\",\"showbackground\":true,\"ticks\":\"\",\"zerolinecolor\":\"white\"},\"yaxis\":{\"backgroundcolor\":\"#E5ECF6\",\"gridcolor\":\"white\",\"gridwidth\":2,\"linecolor\":\"white\",\"showbackground\":true,\"ticks\":\"\",\"zerolinecolor\":\"white\"},\"zaxis\":{\"backgroundcolor\":\"#E5ECF6\",\"gridcolor\":\"white\",\"gridwidth\":2,\"linecolor\":\"white\",\"showbackground\":true,\"ticks\":\"\",\"zerolinecolor\":\"white\"}},\"shapedefaults\":{\"line\":{\"color\":\"#2a3f5f\"}},\"ternary\":{\"aaxis\":{\"gridcolor\":\"white\",\"linecolor\":\"white\",\"ticks\":\"\"},\"baxis\":{\"gridcolor\":\"white\",\"linecolor\":\"white\",\"ticks\":\"\"},\"bgcolor\":\"#E5ECF6\",\"caxis\":{\"gridcolor\":\"white\",\"linecolor\":\"white\",\"ticks\":\"\"}},\"title\":{\"x\":0.05},\"xaxis\":{\"automargin\":true,\"gridcolor\":\"white\",\"linecolor\":\"white\",\"ticks\":\"\",\"title\":{\"standoff\":15},\"zerolinecolor\":\"white\",\"zerolinewidth\":2},\"yaxis\":{\"automargin\":true,\"gridcolor\":\"white\",\"linecolor\":\"white\",\"ticks\":\"\",\"title\":{\"standoff\":15},\"zerolinecolor\":\"white\",\"zerolinewidth\":2}}},\"title\":{\"text\":\"<b>Compara\\u00e7\\u00e3o de m\\u00e9tricas</b>\",\"x\":0.5},\"margin\":{\"l\":50,\"r\":150,\"t\":30,\"b\":50,\"autoexpand\":false},\"xaxis\":{\"tickfont\":{\"family\":\"Arial\",\"size\":12,\"color\":\"rgb(82, 82, 82)\"},\"showline\":true,\"showgrid\":false,\"showticklabels\":true,\"linecolor\":\"rgb(204, 204, 204)\",\"linewidth\":2,\"ticks\":\"outside\"},\"autosize\":false,\"plot_bgcolor\":\"white\",\"width\":800,\"height\":400,\"hovermode\":\"x\",\"showlegend\":false,\"annotations\":[{\"font\":{\"color\":\"rgb(49,130,189)\",\"family\":\"Arial\",\"size\":16},\"showarrow\":false,\"text\":\"MLP\",\"x\":0.95,\"xanchor\":\"left\",\"xref\":\"paper\",\"y\":0.8042599576908431,\"yanchor\":\"middle\",\"yshift\":-8},{\"font\":{\"color\":\"rgb(115,115,115)\",\"family\":\"Arial\",\"size\":16},\"showarrow\":false,\"text\":\"RandomForest\",\"x\":0.95,\"xanchor\":\"left\",\"xref\":\"paper\",\"y\":0.8027742790046704,\"yanchor\":\"middle\",\"yshift\":1},{\"font\":{\"color\":\"rgb(189,189,189)\",\"family\":\"Arial\",\"size\":16},\"showarrow\":false,\"text\":\"GradientBoosting\",\"x\":0.95,\"xanchor\":\"left\",\"xref\":\"paper\",\"y\":0.8017179789625898,\"yanchor\":\"middle\",\"yshift\":0}]},                        {\"responsive\": true}                    ).then(function(){\n",
              "                            \n",
              "var gd = document.getElementById('99bb5339-6d02-4701-acfd-a85150a961cd');\n",
              "var x = new MutationObserver(function (mutations, observer) {{\n",
              "        var display = window.getComputedStyle(gd).display;\n",
              "        if (!display || display === 'none') {{\n",
              "            console.log([gd, 'removed!']);\n",
              "            Plotly.purge(gd);\n",
              "            observer.disconnect();\n",
              "        }}\n",
              "}});\n",
              "\n",
              "// Listen for the removal of the full notebook cells\n",
              "var notebookContainer = gd.closest('#notebook-container');\n",
              "if (notebookContainer) {{\n",
              "    x.observe(notebookContainer, {childList: true});\n",
              "}}\n",
              "\n",
              "// Listen for the clearing of the current output cell\n",
              "var outputEl = gd.closest('.output');\n",
              "if (outputEl) {{\n",
              "    x.observe(outputEl, {childList: true});\n",
              "}}\n",
              "\n",
              "                        })                };                            </script>        </div>\n",
              "</body>\n",
              "</html>"
            ]
          },
          "metadata": {}
        }
      ]
    },
    {
      "cell_type": "markdown",
      "source": [
        "#### Avaliação do melhor modelo"
      ],
      "metadata": {
        "id": "1UXrzv6uc0G1"
      }
    },
    {
      "cell_type": "code",
      "source": [
        "from sklearn.metrics import classification_report\n",
        "from sklearn.metrics import ConfusionMatrixDisplay"
      ],
      "metadata": {
        "id": "LL4mhiCmgIIY"
      },
      "execution_count": 29,
      "outputs": []
    },
    {
      "cell_type": "code",
      "source": [
        "y_true, y_pred = y_test , nn_model.predict(x_test)\n",
        "clf = nn_model\n",
        "classifier_name = clf.best_estimator_['model'].__class__.__name__ # modelo com melhor acurácia\n",
        "cv_results = clf.cv_results_\n",
        "\n",
        "plt.boxplot(cv_results['mean_test_score'])\n",
        "plt.title('Accuracy - Train')\n",
        "plt.show()\n",
        "\n",
        "print('')\n",
        "\n",
        "print('AUC score: ', roc_auc_score(y_true, y_pred))\n",
        "print('')\n",
        "print(classification_report(y_test, y_pred))\n",
        "print('')\n",
        "print('-----------------------------------------------------------------------')\n",
        "print('')\n",
        "fig, (ax1, ax2) = plt.subplots(1, 2, figsize=(9, 5))\n",
        "ConfusionMatrixDisplay.from_estimator(clf, x_test, y_test, values_format='d', cmap='Greens', ax=ax1)\n",
        "ax1.set_title(classifier_name,fontsize=15);\n",
        "plt.grid(False)\n",
        "RocCurveDisplay.from_estimator(clf, x_test, y_test, ax=ax2);\n",
        "ax2.set_title(classifier_name,fontsize=15);\n",
        "plt.tight_layout()\n",
        "plt.show()"
      ],
      "metadata": {
        "colab": {
          "base_uri": "https://localhost:8080/",
          "height": 893
        },
        "id": "kUrST51ggRB8",
        "outputId": "15b94480-2cdb-4a0b-e385-de24fe88b484"
      },
      "execution_count": null,
      "outputs": [
        {
          "output_type": "display_data",
          "data": {
            "text/plain": [
              "<Figure size 432x288 with 1 Axes>"
            ],
            "image/png": "[encoded data removed]"
          },
          "metadata": {
            "needs_background": "light"
          }
        },
        {
          "output_type": "stream",
          "name": "stdout",
          "text": [
            "\n",
            "AUC score:  0.8042599576908431\n",
            "\n",
            "              precision    recall  f1-score   support\n",
            "\n",
            "           0       0.82      0.80      0.81      1742\n",
            "           1       0.79      0.81      0.80      1607\n",
            "\n",
            "    accuracy                           0.80      3349\n",
            "   macro avg       0.80      0.80      0.80      3349\n",
            "weighted avg       0.80      0.80      0.80      3349\n",
            "\n",
            "\n",
            "-----------------------------------------------------------------------\n",
            "\n"
          ]
        },
        {
          "output_type": "display_data",
          "data": {
            "text/plain": [
              "<Figure size 648x360 with 3 Axes>"
            ],
            "image/png": "[encoded data removed]"
          },
          "metadata": {
            "needs_background": "light"
          }
        }
      ]
    }
  ]
}